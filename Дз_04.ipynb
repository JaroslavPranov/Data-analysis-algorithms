{
  "nbformat": 4,
  "nbformat_minor": 0,
  "metadata": {
    "colab": {
      "name": "Дз_04.ipynb",
      "provenance": [],
      "collapsed_sections": []
    },
    "kernelspec": {
      "name": "python3",
      "display_name": "Python 3"
    },
    "language_info": {
      "name": "python"
    }
  },
  "cells": [
    {
      "cell_type": "markdown",
      "source": [
        "### Домашнее задание <a class=\"anchor\" id=\"hw\"></a><center>"
      ],
      "metadata": {
        "id": "eVWLNeoNS7FE"
      }
    },
    {
      "cell_type": "code",
      "execution_count": 1,
      "metadata": {
        "id": "QcRHX-k2Szxg"
      },
      "outputs": [],
      "source": [
        "import numpy as np\n",
        "import matplotlib.pyplot as plt\n",
        "from sklearn.datasets import make_classification, make_regression\n",
        "from sklearn.model_selection import train_test_split\n",
        "from tqdm import tqdm\n",
        "import warnings\n",
        "warnings.filterwarnings('ignore')"
      ]
    },
    {
      "cell_type": "code",
      "source": [
        "# сгенерируем данные\n",
        "classification_data, classification_labels = make_classification(n_samples=1000, n_features=2, n_informative=2, \n",
        "                                                                 n_classes=2, n_redundant=0,\n",
        "                                                                 n_clusters_per_class=1, random_state=5)"
      ],
      "metadata": {
        "id": "63j0Z1nmUHa5"
      },
      "execution_count": 2,
      "outputs": []
    },
    {
      "cell_type": "code",
      "source": [
        "# Разобьем выборку на обучающую и тестовую\n",
        "\n",
        "from sklearn.model_selection import train_test_split\n",
        "\n",
        "train_data, test_data, train_labels, test_labels = train_test_split(classification_data, \n",
        "                                                                    classification_labels, \n",
        "                                                                    test_size=0.3,\n",
        "                                                                    random_state=1)"
      ],
      "metadata": {
        "id": "V0RIskbAUNe6"
      },
      "execution_count": 3,
      "outputs": []
    },
    {
      "cell_type": "code",
      "source": [
        "# Реализуем класс узла\n",
        "\n",
        "class Node:\n",
        "    \n",
        "    def __init__(self, index, t, true_branch, false_branch):\n",
        "        self.index = index  # индекс признака, по которому ведется сравнение с порогом в этом узле\n",
        "        self.t = t  # значение порога\n",
        "        self.true_branch = true_branch  # поддерево, удовлетворяющее условию в узле\n",
        "        self.false_branch = false_branch  # поддерево, не удовлетворяющее условию в узле"
      ],
      "metadata": {
        "id": "ymn6495fUOkq"
      },
      "execution_count": 4,
      "outputs": []
    },
    {
      "cell_type": "code",
      "source": [
        "# Реализуем класс терминального узла (листа)\n",
        "\n",
        "class Leaf:\n",
        "    \n",
        "    def __init__(self, data, labels):\n",
        "        self.data = data\n",
        "        self.labels = labels\n",
        "        self.prediction = self.predict()\n",
        "        \n",
        "    def predict(self):\n",
        "        # подсчет количества объектов разных классов\n",
        "        classes = {}  # сформируем словарь \"класс: количество объектов\"\n",
        "        for label in self.labels:\n",
        "            if label not in classes:\n",
        "                classes[label] = 0\n",
        "            classes[label] += 1\n",
        "            \n",
        "        # найдем класс, количество объектов которого будет максимальным в этом листе и вернем его    \n",
        "        prediction = max(classes, key=classes.get)\n",
        "        return prediction  "
      ],
      "metadata": {
        "id": "K2vHATr1UadX"
      },
      "execution_count": 5,
      "outputs": []
    },
    {
      "cell_type": "code",
      "source": [
        "# Расчет критерия Джини\n",
        "\n",
        "def gini(labels):\n",
        "    #  подсчет количества объектов разных классов\n",
        "    classes = {}\n",
        "    for label in labels:\n",
        "        if label not in classes:\n",
        "            classes[label] = 0\n",
        "        classes[label] += 1\n",
        "    \n",
        "    #  расчет критерия\n",
        "    impurity = 1\n",
        "    for label in classes:\n",
        "        p = classes[label] / len(labels)\n",
        "        impurity -= p ** 2\n",
        "        \n",
        "    return impurity"
      ],
      "metadata": {
        "id": "Zd09VD5-Uhqb"
      },
      "execution_count": 6,
      "outputs": []
    },
    {
      "cell_type": "code",
      "source": [
        "# Расчет прироста\n",
        "\n",
        "def gain(left_labels, right_labels, root_gini):\n",
        "\n",
        "    # доля выборки, ушедшая в левое поддерево\n",
        "    p = float(left_labels.shape[0]) / (left_labels.shape[0] + right_labels.shape[0])\n",
        "    \n",
        "    return root_gini - p * gini(left_labels) - (1 - p) * gini(right_labels)"
      ],
      "metadata": {
        "id": "thPxvGDIUl-b"
      },
      "execution_count": 7,
      "outputs": []
    },
    {
      "cell_type": "code",
      "source": [
        "# Разбиение датасета в узле\n",
        "\n",
        "def split(data, labels, column_index, t):\n",
        "    \n",
        "    left = np.where(data[:, column_index] <= t)\n",
        "    right = np.where(data[:, column_index] > t)\n",
        "        \n",
        "    true_data = data[left]\n",
        "    false_data = data[right]\n",
        "    \n",
        "    true_labels = labels[left]\n",
        "    false_labels = labels[right]\n",
        "        \n",
        "    return true_data, false_data, true_labels, false_labels"
      ],
      "metadata": {
        "id": "_VxVA617UpKJ"
      },
      "execution_count": 8,
      "outputs": []
    },
    {
      "cell_type": "code",
      "source": [
        "# Нахождение наилучшего разбиения\n",
        "\n",
        "def find_best_split(data, labels):\n",
        "    \n",
        "    #  обозначим минимальное количество объектов в узле\n",
        "    min_samples_leaf = 5\n",
        "\n",
        "    root_gini = gini(labels)\n",
        "\n",
        "    best_gain = 0\n",
        "    best_t = None\n",
        "    best_index = None\n",
        "    \n",
        "    n_features = data.shape[1]\n",
        "    \n",
        "    for index in range(n_features):\n",
        "        # будем проверять только уникальные значения признака, исключая повторения\n",
        "        t_values = np.unique(data[:, index])\n",
        "        \n",
        "        for t in t_values:\n",
        "            true_data, false_data, true_labels, false_labels = split(data, labels, index, t)\n",
        "            #  пропускаем разбиения, в которых в узле остается менее 5 объектов\n",
        "            if len(true_data) < min_samples_leaf or len(false_data) < min_samples_leaf:\n",
        "                continue\n",
        "            \n",
        "            current_gain = gain(true_labels, false_labels, root_gini)\n",
        "            \n",
        "            #  выбираем порог, на котором получается максимальный прирост качества\n",
        "            if current_gain > best_gain:\n",
        "                best_gain, best_t, best_index = current_gain, t, index\n",
        "\n",
        "    return best_gain, best_t, best_index"
      ],
      "metadata": {
        "id": "BsZGAABCUuOo"
      },
      "execution_count": 9,
      "outputs": []
    },
    {
      "cell_type": "code",
      "source": [
        "# Построение дерева с помощью рекурсивной функции\n",
        "\n",
        "def build_tree(data, labels):\n",
        "\n",
        "    gain, t, index = find_best_split(data, labels)\n",
        "\n",
        "    #  Базовый случай - прекращаем рекурсию, когда нет прироста в качества\n",
        "    if gain == 0:\n",
        "        return Leaf(data, labels)\n",
        "\n",
        "    true_data, false_data, true_labels, false_labels = split(data, labels, index, t)\n",
        "\n",
        "    # Рекурсивно строим два поддерева\n",
        "    true_branch = build_tree(true_data, true_labels)\n",
        "    false_branch = build_tree(false_data, false_labels)\n",
        "\n",
        "    # Возвращаем класс узла со всеми поддеревьями, то есть целого дерева\n",
        "    return Node(index, t, true_branch, false_branch)"
      ],
      "metadata": {
        "id": "_m3JcVMzUyhf"
      },
      "execution_count": 10,
      "outputs": []
    },
    {
      "cell_type": "code",
      "source": [
        "def classify_object(obj, node):\n",
        "\n",
        "    #  Останавливаем рекурсию, если достигли листа\n",
        "    if isinstance(node, Leaf):\n",
        "        answer = node.prediction\n",
        "        return answer\n",
        "\n",
        "    if obj[node.index] <= node.t:\n",
        "        return classify_object(obj, node.true_branch)\n",
        "    else:\n",
        "        return classify_object(obj, node.false_branch)"
      ],
      "metadata": {
        "id": "wkGwXQyVU1yV"
      },
      "execution_count": 11,
      "outputs": []
    },
    {
      "cell_type": "code",
      "source": [
        "def predict(data, tree):\n",
        "    \n",
        "    classes = []\n",
        "    for obj in data:\n",
        "        prediction = classify_object(obj, tree)\n",
        "        classes.append(prediction)\n",
        "    return classes"
      ],
      "metadata": {
        "id": "MwizHsbRU6B0"
      },
      "execution_count": 12,
      "outputs": []
    },
    {
      "cell_type": "code",
      "source": [
        "# Напечатаем ход нашего дерева\n",
        "def print_tree(node, spacing=\"\"):\n",
        "\n",
        "    # Если лист, то выводим его прогноз\n",
        "    if isinstance(node, Leaf):\n",
        "        print(spacing + \"Прогноз:\", node.prediction)\n",
        "        return\n",
        "\n",
        "    # Выведем значение индекса и порога на этом узле\n",
        "    print(spacing + 'Индекс', str(node.index), '<=', str(node.t))\n",
        "\n",
        "    # Рекурсионный вызов функции на положительном поддереве\n",
        "    print (spacing + '--> True:')\n",
        "    print_tree(node.true_branch, spacing + \"  \")\n",
        "\n",
        "    # Рекурсионный вызов функции на отрицательном поддереве\n",
        "    print (spacing + '--> False:')\n",
        "    print_tree(node.false_branch, spacing + \"  \")"
      ],
      "metadata": {
        "id": "rXoEWXi0U-CS"
      },
      "execution_count": 13,
      "outputs": []
    },
    {
      "cell_type": "code",
      "source": [
        "# Введем функцию подсчета точности как доли правильных ответов\n",
        "def accuracy_metric(actual, predicted):\n",
        "    correct = 0\n",
        "    for i in range(len(actual)):\n",
        "        if actual[i] == predicted[i]:\n",
        "            correct += 1\n",
        "    return correct / float(len(actual)) * 100.0"
      ],
      "metadata": {
        "id": "A01oESERVBpQ"
      },
      "execution_count": 14,
      "outputs": []
    },
    {
      "cell_type": "code",
      "source": [
        "# Построим дерево по обучающей выборке\n",
        "my_tree = build_tree(train_data, train_labels)\n",
        "print_tree(my_tree)"
      ],
      "metadata": {
        "colab": {
          "base_uri": "https://localhost:8080/"
        },
        "id": "MKFiSku7VGAB",
        "outputId": "d74e4d92-425c-464d-bac3-0aaf148f46bf"
      },
      "execution_count": 15,
      "outputs": [
        {
          "output_type": "stream",
          "name": "stdout",
          "text": [
            "Индекс 0 <= -0.001967524769128759\n",
            "--> True:\n",
            "  Индекс 1 <= -1.3993975578815423\n",
            "  --> True:\n",
            "    Индекс 1 <= -1.6646404646216442\n",
            "    --> True:\n",
            "      Индекс 0 <= -0.8728986138474495\n",
            "      --> True:\n",
            "        Прогноз: 0\n",
            "      --> False:\n",
            "        Прогноз: 0\n",
            "    --> False:\n",
            "      Индекс 0 <= -0.6882680999463433\n",
            "      --> True:\n",
            "        Прогноз: 0\n",
            "      --> False:\n",
            "        Индекс 0 <= -0.40118216125291906\n",
            "        --> True:\n",
            "          Индекс 1 <= -1.568473711740985\n",
            "          --> True:\n",
            "            Индекс 0 <= -0.5543283463967665\n",
            "            --> True:\n",
            "              Прогноз: 1\n",
            "            --> False:\n",
            "              Прогноз: 1\n",
            "          --> False:\n",
            "            Прогноз: 0\n",
            "        --> False:\n",
            "          Индекс 1 <= -1.5264301097909836\n",
            "          --> True:\n",
            "            Прогноз: 1\n",
            "          --> False:\n",
            "            Индекс 1 <= -1.4255078037225668\n",
            "            --> True:\n",
            "              Прогноз: 1\n",
            "            --> False:\n",
            "              Прогноз: 1\n",
            "  --> False:\n",
            "    Прогноз: 0\n",
            "--> False:\n",
            "  Индекс 1 <= -1.4518330557811816\n",
            "  --> True:\n",
            "    Прогноз: 0\n",
            "  --> False:\n",
            "    Индекс 0 <= 0.08948763365897316\n",
            "    --> True:\n",
            "      Индекс 0 <= 0.04459943514365716\n",
            "      --> True:\n",
            "        Прогноз: 1\n",
            "      --> False:\n",
            "        Прогноз: 1\n",
            "    --> False:\n",
            "      Индекс 0 <= 1.2003150546431454\n",
            "      --> True:\n",
            "        Индекс 0 <= 1.1480251121818283\n",
            "        --> True:\n",
            "          Индекс 1 <= -1.0609167140093252\n",
            "          --> True:\n",
            "            Прогноз: 1\n",
            "          --> False:\n",
            "            Индекс 0 <= 0.8595014481629895\n",
            "            --> True:\n",
            "              Прогноз: 1\n",
            "            --> False:\n",
            "              Прогноз: 1\n",
            "        --> False:\n",
            "          Прогноз: 1\n",
            "      --> False:\n",
            "        Прогноз: 1\n"
          ]
        }
      ]
    },
    {
      "cell_type": "code",
      "source": [
        "def check_accuracy(my_tree):\n",
        "    train_answers = predict(train_data, my_tree)\n",
        "\n",
        "    train_accuracy = accuracy_metric(train_labels, train_answers)\n",
        "    print(train_accuracy)\n",
        "\n",
        "    answers = predict(test_data, my_tree)\n",
        "\n",
        "    test_accuracy = accuracy_metric(test_labels, answers)\n",
        "    print(test_accuracy)"
      ],
      "metadata": {
        "id": "wWi2vK6WVNCT"
      },
      "execution_count": 16,
      "outputs": []
    },
    {
      "cell_type": "code",
      "source": [
        "check_accuracy(my_tree)"
      ],
      "metadata": {
        "colab": {
          "base_uri": "https://localhost:8080/"
        },
        "id": "l7ijw6J7VQR7",
        "outputId": "13b90107-32d1-4bd0-ed9a-5844d90930d3"
      },
      "execution_count": 17,
      "outputs": [
        {
          "output_type": "stream",
          "name": "stdout",
          "text": [
            "98.14285714285714\n",
            "95.0\n"
          ]
        }
      ]
    },
    {
      "cell_type": "code",
      "source": [
        "%%time\n",
        "\n",
        "my_tree = build_tree(train_data, train_labels)"
      ],
      "metadata": {
        "colab": {
          "base_uri": "https://localhost:8080/"
        },
        "id": "zeqPk-F2bBMR",
        "outputId": "4c5b7bfd-fcb9-4fa0-ac34-74925779b1d8"
      },
      "execution_count": 18,
      "outputs": [
        {
          "output_type": "stream",
          "name": "stdout",
          "text": [
            "CPU times: user 1.12 s, sys: 29.9 ms, total: 1.15 s\n",
            "Wall time: 1.18 s\n"
          ]
        }
      ]
    },
    {
      "cell_type": "markdown",
      "source": [
        "**1. В коде из методички реализуйте один или несколько из критериев останова (количество листьев, количество используемых признаков, глубина дерева и т.д.)**"
      ],
      "metadata": {
        "id": "GT4LlPcodPw-"
      }
    },
    {
      "cell_type": "markdown",
      "source": [
        "*Количество листьев*"
      ],
      "metadata": {
        "id": "bQWvMXNpdRed"
      }
    },
    {
      "cell_type": "code",
      "source": [
        "def build_tree(data, labels):\n",
        "    global max_leaves, depth, num_leaves\n",
        "    \n",
        "    gain, t, index = find_best_split(data, labels)\n",
        "\n",
        "    #  Базовый случай - прекращаем рекурсию, когда нет прироста в качества\n",
        "    # или когда количество листьев стало больше максимального\n",
        "    print(num_leaves, depth)\n",
        "    if gain == 0 or num_leaves >= max_leaves - 1 or depth >= max_leaves - 1:\n",
        "        num_leaves += 1\n",
        "        return Leaf(data, labels)\n",
        "\n",
        "    depth += 1\n",
        "    \n",
        "    true_data, false_data, true_labels, false_labels = split(data, labels, index, t)\n",
        "\n",
        "    # Рекурсивно строим два поддерева\n",
        "    true_branch = build_tree(true_data, true_labels)\n",
        "    false_branch = build_tree(false_data, false_labels)\n",
        "\n",
        "    # Возвращаем класс узла со всеми поддеревьями, то есть целого дерева\n",
        "    return Node(index, t, true_branch, false_branch)"
      ],
      "metadata": {
        "id": "R8U_qCFfeVpe"
      },
      "execution_count": 19,
      "outputs": []
    },
    {
      "cell_type": "code",
      "source": [
        "# Построим дерево по обучающей выборке\n",
        "num_leaves = 0\n",
        "depth = 0\n",
        "\n",
        "max_leaves = 10\n",
        "\n",
        "my_tree = build_tree(train_data, train_labels)\n",
        "print_tree(my_tree)"
      ],
      "metadata": {
        "colab": {
          "base_uri": "https://localhost:8080/"
        },
        "id": "4dn62P1WecQs",
        "outputId": "a9ebde77-431c-4fc0-f555-9083b4756d2c"
      },
      "execution_count": 20,
      "outputs": [
        {
          "output_type": "stream",
          "name": "stdout",
          "text": [
            "0 0\n",
            "0 1\n",
            "0 2\n",
            "0 3\n",
            "0 4\n",
            "1 4\n",
            "2 4\n",
            "2 5\n",
            "3 5\n",
            "3 6\n",
            "3 7\n",
            "3 8\n",
            "4 8\n",
            "5 8\n",
            "6 8\n",
            "6 9\n",
            "7 9\n",
            "8 9\n",
            "9 9\n",
            "Индекс 0 <= -0.001967524769128759\n",
            "--> True:\n",
            "  Индекс 1 <= -1.3993975578815423\n",
            "  --> True:\n",
            "    Индекс 1 <= -1.6646404646216442\n",
            "    --> True:\n",
            "      Индекс 0 <= -0.8728986138474495\n",
            "      --> True:\n",
            "        Прогноз: 0\n",
            "      --> False:\n",
            "        Прогноз: 0\n",
            "    --> False:\n",
            "      Индекс 0 <= -0.6882680999463433\n",
            "      --> True:\n",
            "        Прогноз: 0\n",
            "      --> False:\n",
            "        Индекс 0 <= -0.40118216125291906\n",
            "        --> True:\n",
            "          Индекс 1 <= -1.568473711740985\n",
            "          --> True:\n",
            "            Индекс 0 <= -0.5543283463967665\n",
            "            --> True:\n",
            "              Прогноз: 1\n",
            "            --> False:\n",
            "              Прогноз: 1\n",
            "          --> False:\n",
            "            Прогноз: 0\n",
            "        --> False:\n",
            "          Индекс 1 <= -1.5264301097909836\n",
            "          --> True:\n",
            "            Прогноз: 1\n",
            "          --> False:\n",
            "            Прогноз: 1\n",
            "  --> False:\n",
            "    Прогноз: 0\n",
            "--> False:\n",
            "  Прогноз: 1\n"
          ]
        }
      ]
    },
    {
      "cell_type": "markdown",
      "source": [
        "*Глубина дерева*"
      ],
      "metadata": {
        "id": "jLoC0WO6ek7S"
      }
    },
    {
      "cell_type": "code",
      "source": [
        "# Построение дерева с помощью рекурсивной функции\n",
        "def build_tree(data, labels, max_depth):\n",
        "    \n",
        "    gain, t, index = find_best_split(data, labels)\n",
        "\n",
        "    #  Базовый случай - прекращаем рекурсию, когда нет прироста в качества\n",
        "    # или когда достигли максимальной глубины дерева\n",
        "    if gain == 0 or max_depth == 0:\n",
        "        return Leaf(data, labels)\n",
        "    \n",
        "    true_data, false_data, true_labels, false_labels = split(data, labels, index, t)\n",
        "    \n",
        "    # Рекурсивно строим два поддерева\n",
        "    true_branch = build_tree(true_data, true_labels, max_depth - 1)\n",
        "    false_branch = build_tree(false_data, false_labels, max_depth - 1)\n",
        "\n",
        "    # Возвращаем класс узла со всеми поддеревьями, то есть целого дерева\n",
        "    return Node(index, t, true_branch, false_branch)"
      ],
      "metadata": {
        "id": "SxpIQbgKel2i"
      },
      "execution_count": 21,
      "outputs": []
    },
    {
      "cell_type": "code",
      "source": [
        "# Построим дерево по обучающей выборке\n",
        "\n",
        "my_tree = build_tree(train_data, train_labels, max_depth=4)\n",
        "print_tree(my_tree)"
      ],
      "metadata": {
        "colab": {
          "base_uri": "https://localhost:8080/"
        },
        "id": "lrphmw5Mersg",
        "outputId": "cb980e31-2249-4b35-b6f6-7258dab74924"
      },
      "execution_count": 22,
      "outputs": [
        {
          "output_type": "stream",
          "name": "stdout",
          "text": [
            "Индекс 0 <= -0.001967524769128759\n",
            "--> True:\n",
            "  Индекс 1 <= -1.3993975578815423\n",
            "  --> True:\n",
            "    Индекс 1 <= -1.6646404646216442\n",
            "    --> True:\n",
            "      Индекс 0 <= -0.8728986138474495\n",
            "      --> True:\n",
            "        Прогноз: 0\n",
            "      --> False:\n",
            "        Прогноз: 0\n",
            "    --> False:\n",
            "      Индекс 0 <= -0.6882680999463433\n",
            "      --> True:\n",
            "        Прогноз: 0\n",
            "      --> False:\n",
            "        Прогноз: 1\n",
            "  --> False:\n",
            "    Прогноз: 0\n",
            "--> False:\n",
            "  Индекс 1 <= -1.4518330557811816\n",
            "  --> True:\n",
            "    Прогноз: 0\n",
            "  --> False:\n",
            "    Индекс 0 <= 0.08948763365897316\n",
            "    --> True:\n",
            "      Индекс 0 <= 0.04459943514365716\n",
            "      --> True:\n",
            "        Прогноз: 1\n",
            "      --> False:\n",
            "        Прогноз: 1\n",
            "    --> False:\n",
            "      Индекс 0 <= 1.2003150546431454\n",
            "      --> True:\n",
            "        Прогноз: 1\n",
            "      --> False:\n",
            "        Прогноз: 1\n"
          ]
        }
      ]
    },
    {
      "cell_type": "code",
      "source": [
        "check_accuracy(my_tree)"
      ],
      "metadata": {
        "colab": {
          "base_uri": "https://localhost:8080/"
        },
        "id": "_QayvRKhewR8",
        "outputId": "1e339eab-4e0e-4cab-9e80-d9eb58ff9a06"
      },
      "execution_count": 23,
      "outputs": [
        {
          "output_type": "stream",
          "name": "stdout",
          "text": [
            "97.0\n",
            "94.66666666666667\n"
          ]
        }
      ]
    },
    {
      "cell_type": "markdown",
      "source": [
        "**2. *Реализуйте дерево для задачи регрессии. Возьмите за основу дерево, реализованное в методичке, заменив механизм предсказания в листе на взятие среднего значения по выборке, и критерий Джини на дисперсию значений.**"
      ],
      "metadata": {
        "id": "GKEGJXWSfDzh"
      }
    },
    {
      "cell_type": "code",
      "source": [
        "# сгенерируем данные\n",
        "data, targets = make_regression(n_features=2, n_informative=2, random_state=5)"
      ],
      "metadata": {
        "id": "CkaJk6dtfG63"
      },
      "execution_count": 24,
      "outputs": []
    },
    {
      "cell_type": "code",
      "source": [
        "# Разобьем выборку на обучающую и тестовую\n",
        "\n",
        "from sklearn.model_selection import train_test_split\n",
        "\n",
        "train_data_regr, test_data_regr, train_target_regr, test_target_regr = train_test_split(data, \n",
        "                                                                                        targets, \n",
        "                                                                                        test_size=0.3,\n",
        "                                                                                        random_state=1)"
      ],
      "metadata": {
        "id": "dNtTRDDKfKOr"
      },
      "execution_count": 25,
      "outputs": []
    },
    {
      "cell_type": "code",
      "source": [
        "# Реализуем класс узла\n",
        "\n",
        "class Node:\n",
        "    \n",
        "    def __init__(self, index, t, true_branch, false_branch):\n",
        "        self.index = index  # индекс признака, по которому ведется сравнение с порогом в этом узле\n",
        "        self.t = t  # значение порога\n",
        "        self.true_branch = true_branch  # поддерево, удовлетворяющее условию в узле\n",
        "        self.false_branch = false_branch  # поддерево, не удовлетворяющее условию в узле"
      ],
      "metadata": {
        "id": "_BF2bcmziAFs"
      },
      "execution_count": 26,
      "outputs": []
    },
    {
      "cell_type": "code",
      "source": [
        "# И класс терминального узла (листа)\n",
        "\n",
        "class Leaf:\n",
        "    \n",
        "    def __init__(self, data, targets):\n",
        "        self.data = data\n",
        "        self.targets = targets\n",
        "        self.prediction = self.predict()\n",
        "        \n",
        "    def predict(self):\n",
        "        return self.targets.mean()"
      ],
      "metadata": {
        "id": "T6MeA3-XfNQS"
      },
      "execution_count": 27,
      "outputs": []
    },
    {
      "cell_type": "code",
      "source": [
        "def mse(targets):\n",
        "    return np.mean((targets - targets.mean())**2)"
      ],
      "metadata": {
        "id": "Kq6iRvRYf4NU"
      },
      "execution_count": 28,
      "outputs": []
    },
    {
      "cell_type": "code",
      "source": [
        "# Нахождение наилучшего разбиения\n",
        "\n",
        "def find_best_split(data, targets):\n",
        "    \n",
        "    #  обозначим минимальное количество объектов в узле\n",
        "    min_samples_leaf = 5\n",
        "\n",
        "    root_mse = mse(targets)\n",
        "\n",
        "    best_gain = 0\n",
        "    best_t = None\n",
        "    best_index = None\n",
        "    \n",
        "    n_features = data.shape[1]\n",
        "    \n",
        "    for index in range(n_features):\n",
        "        # будем проверять только уникальные значения признака, исключая повторения\n",
        "        t_values = np.unique(data[:, index])\n",
        "        \n",
        "        for t in t_values:\n",
        "            true_data, false_data, true_targets, false_targets = split(data, targets, index, t)\n",
        "            #  пропускаем разбиения, в которых в узле остается менее 5 объектов\n",
        "            if len(true_data) < min_samples_leaf or len(false_data) < min_samples_leaf:\n",
        "                continue\n",
        "            \n",
        "            current_gain = gain(true_targets, false_targets, root_mse)\n",
        "            \n",
        "            #  выбираем порог, на котором получается максимальный прирост качества\n",
        "            if current_gain > best_gain:\n",
        "                best_gain, best_t, best_index = current_gain, t, index\n",
        "\n",
        "    return best_gain, best_t, best_index"
      ],
      "metadata": {
        "id": "esrsRSnVf8b4"
      },
      "execution_count": 29,
      "outputs": []
    },
    {
      "cell_type": "code",
      "source": [
        "# Построение дерева с помощью рекурсивной функции\n",
        "\n",
        "def build_tree(data, target):\n",
        "\n",
        "    gain, t, index = find_best_split(data, target)\n",
        "\n",
        "    #  Базовый случай - прекращаем рекурсию, когда нет прироста в качества\n",
        "    if gain == 0:\n",
        "        return Leaf(data, target)\n",
        "\n",
        "    true_data, false_data, true_target, false_target = split(data, target, index, t)\n",
        "\n",
        "    # Рекурсивно строим два поддерева\n",
        "    true_branch = build_tree(true_data, true_target)\n",
        "    false_branch = build_tree(false_data, false_target)\n",
        "\n",
        "    node = Node(index, t, true_branch, false_branch)\n",
        "\n",
        "    # Возвращаем класс узла со всеми поддеревьями, то есть целого дерева\n",
        "    return node"
      ],
      "metadata": {
        "id": "jo_LVNQ8gBuw"
      },
      "execution_count": 30,
      "outputs": []
    },
    {
      "cell_type": "code",
      "source": [
        "# Построим дерево по обучающей выборке\n",
        "my_tree = build_tree(train_data_regr, train_target_regr)\n",
        "print_tree(my_tree)"
      ],
      "metadata": {
        "colab": {
          "base_uri": "https://localhost:8080/"
        },
        "id": "_uQsVyQCgtEE",
        "outputId": "547389f1-2612-4a9c-98d5-dcec8217d96a"
      },
      "execution_count": 31,
      "outputs": [
        {
          "output_type": "stream",
          "name": "stdout",
          "text": [
            "Индекс 0 <= -1.167278449710173\n",
            "--> True:\n",
            "  Прогноз: -121.39064849773837\n",
            "--> False:\n",
            "  Индекс 0 <= -0.8126247611063044\n",
            "  --> True:\n",
            "    Прогноз: -58.83807643952095\n",
            "  --> False:\n",
            "    Индекс 0 <= -0.5017555471945\n",
            "    --> True:\n",
            "      Прогноз: -50.68338930141631\n",
            "    --> False:\n",
            "      Индекс 0 <= -0.28143012121166766\n",
            "      --> True:\n",
            "        Прогноз: -19.53457742091028\n",
            "      --> False:\n",
            "        Индекс 0 <= 0.10134479014204936\n",
            "        --> True:\n",
            "          Индекс 0 <= -0.10593044205742323\n",
            "          --> True:\n",
            "            Прогноз: -19.179384142931184\n",
            "          --> False:\n",
            "            Прогноз: 11.007437547567205\n",
            "        --> False:\n",
            "          Индекс 0 <= 0.30364846530823975\n",
            "          --> True:\n",
            "            Прогноз: 17.82546436535075\n",
            "          --> False:\n",
            "            Индекс 0 <= 0.6178447508392777\n",
            "            --> True:\n",
            "              Индекс 0 <= 0.44295626086393586\n",
            "              --> True:\n",
            "                Прогноз: 32.35717501918585\n",
            "              --> False:\n",
            "                Прогноз: 44.73161236384693\n",
            "            --> False:\n",
            "              Индекс 0 <= 0.7769075911230111\n",
            "              --> True:\n",
            "                Прогноз: 49.38316175366546\n",
            "              --> False:\n",
            "                Индекс 0 <= 1.1522047703756748\n",
            "                --> True:\n",
            "                  Прогноз: 44.50582349952781\n",
            "                --> False:\n",
            "                  Прогноз: 113.00294879297327\n"
          ]
        }
      ]
    },
    {
      "cell_type": "code",
      "source": [
        "from sklearn.metrics import r2_score\n",
        "\n",
        "train_answers = predict(train_data_regr, my_tree)\n",
        "train_r2 = r2_score(train_target_regr, train_answers)\n",
        "print(train_r2)\n",
        "\n",
        "answers = predict(test_data_regr, my_tree)\n",
        "test_r2 = r2_score(test_target_regr, answers)\n",
        "print(test_r2)"
      ],
      "metadata": {
        "colab": {
          "base_uri": "https://localhost:8080/"
        },
        "id": "hCzSNwPSiqGi",
        "outputId": "5998116b-93a2-4eb7-e97b-83f70a02e22f"
      },
      "execution_count": 32,
      "outputs": [
        {
          "output_type": "stream",
          "name": "stdout",
          "text": [
            "0.8994102006971118\n",
            "0.8047526472601623\n"
          ]
        }
      ]
    },
    {
      "cell_type": "markdown",
      "source": [
        "**Реализация через классы**"
      ],
      "metadata": {
        "id": "brJ4ldPGi0wS"
      }
    },
    {
      "cell_type": "code",
      "source": [
        "class Leaf_clsf:\n",
        "    \n",
        "    def __init__(self, data, labels):\n",
        "        self.data = data\n",
        "        self.labels = labels\n",
        "        self.prediction = self.predict()\n",
        "        \n",
        "    def predict(self):\n",
        "        # подсчет количества объектов разных классов\n",
        "        classes = {}  # сформируем словарь \"класс: количество объектов\"\n",
        "        for label in self.labels:\n",
        "            if label not in classes:\n",
        "                classes[label] = 0\n",
        "            classes[label] += 1\n",
        "            \n",
        "        # найдем класс, количество объектов которого будет максимальным в этом листе и вернем его    \n",
        "        prediction = max(classes, key=classes.get)\n",
        "        return prediction        \n",
        "    \n",
        "\n",
        "class Leaf_regr:\n",
        "    \n",
        "    def __init__(self, data, targets):\n",
        "        self.data = data\n",
        "        self.targets = targets\n",
        "        self.prediction = self.predict()\n",
        "        \n",
        "    def predict(self):\n",
        "        return self.targets.mean()"
      ],
      "metadata": {
        "id": "_W5Xb9jzi11z"
      },
      "execution_count": 33,
      "outputs": []
    },
    {
      "cell_type": "code",
      "source": [
        "class BaseTree:\n",
        "\n",
        "    def __init__(self,\n",
        "                 max_depth,\n",
        "                 max_leaf_nodes,\n",
        "                 min_leaf_samples,\n",
        "                 leaf_class):\n",
        "        self.max_depth = max_depth\n",
        "        self.nodes = []\n",
        "        self.leaves = []\n",
        "        self.depth = 0\n",
        "        self.max_leaves = max_leaf_nodes\n",
        "        self.min_objects = min_leaf_samples\n",
        "        self.tree = None\n",
        "        self.Leaf = leaf_class\n",
        "        \n",
        "    # Разбиение датасета в узле\n",
        "    def split(self,\n",
        "              data,\n",
        "              labels,\n",
        "              column_index,\n",
        "              t):\n",
        "\n",
        "        left = np.where(data[:, column_index] <= t)\n",
        "        right = np.where(data[:, column_index] > t)\n",
        "\n",
        "        true_data = data[left]\n",
        "        false_data = data[right]\n",
        "\n",
        "        true_labels = labels[left]\n",
        "        false_labels = labels[right]\n",
        "\n",
        "        return true_data, false_data, true_labels, false_labels\n",
        "    \n",
        "    # Расчет прироста\n",
        "    def gain(self,\n",
        "             left_labels,\n",
        "             right_labels,\n",
        "             root):\n",
        "\n",
        "        # доля выборки, ушедшая в левое поддерево\n",
        "        p = float(left_labels.shape[0]) / (left_labels.shape[0] + right_labels.shape[0])\n",
        "\n",
        "        return root - p * self.criterion(left_labels) - (1 - p) * self.criterion(right_labels)   \n",
        "    \n",
        "    # Нахождение наилучшего разбиения\n",
        "    def find_best_split(self,\n",
        "                        data,\n",
        "                        labels):\n",
        "\n",
        "        #  обозначим минимальное количество объектов в узле\n",
        "        min_samples_leaf = 5\n",
        "\n",
        "        root = self.criterion(labels)\n",
        "\n",
        "        best_gain = 0\n",
        "        best_t = None\n",
        "        best_index = None\n",
        "\n",
        "        n_features = data.shape[1]\n",
        "\n",
        "        for index in range(n_features):\n",
        "            # будем проверять только уникальные значения признака, исключая повторения\n",
        "            t_values = np.unique(data[:, index])\n",
        "\n",
        "            for t in t_values:\n",
        "                true_data, false_data, true_labels, false_labels = self.split(data, labels, index, t)\n",
        "                #  пропускаем разбиения, в которых в узле остается менее 5 объектов\n",
        "                if len(true_data) < min_samples_leaf or len(false_data) < min_samples_leaf:\n",
        "                    continue\n",
        "\n",
        "                current_gain = self.gain(true_labels, false_labels, root)\n",
        "\n",
        "                #  выбираем порог, на котором получается максимальный прирост качества\n",
        "                if current_gain > best_gain:\n",
        "                    best_gain, best_t, best_index = current_gain, t, index\n",
        "\n",
        "        return best_gain, best_t, best_index\n",
        "    \n",
        "    # Построение дерева с помощью рекурсивной функции\n",
        "    def build_tree(self,\n",
        "                   data,\n",
        "                   labels):\n",
        "\n",
        "        gain, t, index = self.find_best_split(data, labels)\n",
        "         \n",
        "        #  Базовый случай 2 - прекращаем рекурсию, когда достигли максимальной глубины дерева\n",
        "        if self.depth > self.max_depth:\n",
        "            self.leaves.append(self.Leaf(data, labels))\n",
        "            return self.Leaf(data, labels)\n",
        "        \n",
        "        #  Базовый случай 3 - прекращаем рекурсию, когда достигли максимального количества листьев\n",
        "        if len(self.leaves) >= self.max_leaves - 1 or self.depth >= self.max_leaves - 1:\n",
        "            self.leaves.append(self.Leaf(data, labels))\n",
        "            return self.Leaf(data, labels)\n",
        "        \n",
        "        #  Базовый случай 4 - прекращаем рекурсию, когда достигли минимального количества объектов в листе\n",
        "        if len(data) <= self.min_objects:\n",
        "            self.leaves.append(self.Leaf(data, labels))\n",
        "            return self.Leaf(data, labels)\n",
        "        \n",
        "         #  Базовый случай 1 - прекращаем рекурсию, когда нет прироста в качества\n",
        "        if gain == 0:\n",
        "            self.leaves.append(self.Leaf(data, labels))\n",
        "            return self.Leaf(data, labels)\n",
        "\n",
        "        self.depth += 1\n",
        "        \n",
        "        true_data, false_data, true_labels, false_labels = self.split(data, labels, index, t)\n",
        "\n",
        "        # Рекурсивно строим два поддерева\n",
        "        true_branch = self.build_tree(true_data, true_labels)\n",
        "        false_branch = self.build_tree(false_data, false_labels)\n",
        "\n",
        "        # Возвращаем класс узла со всеми поддеревьями, то есть целого дерева\n",
        "        self.nodes.append(Node(index, t, true_branch, false_branch))\n",
        "        return Node(index, t, true_branch, false_branch)\n",
        "    \n",
        "    def predict_object(self,\n",
        "                       obj,\n",
        "                       node):\n",
        "\n",
        "        #  Останавливаем рекурсию, если достигли листа\n",
        "        if isinstance(node, self.Leaf):\n",
        "            answer = node.prediction\n",
        "            return answer\n",
        "\n",
        "        if obj[node.index] <= node.t:\n",
        "            return self.predict_object(obj, node.true_branch)\n",
        "        else:\n",
        "            return self.predict_object(obj, node.false_branch)\n",
        "    \n",
        "    def fit(self, data, labels):\n",
        "        self.tree = self.build_tree(data, labels)\n",
        "        return self\n",
        "    \n",
        "    def predict(self, data):\n",
        "    \n",
        "        classes = []\n",
        "        for obj in data:\n",
        "            prediction = self.predict_object(obj, self.tree)\n",
        "            classes.append(prediction)\n",
        "        return classes"
      ],
      "metadata": {
        "id": "Fq-0LbLLi_MA"
      },
      "execution_count": 34,
      "outputs": []
    },
    {
      "cell_type": "code",
      "source": [
        "class Classification_Tree(BaseTree):\n",
        "    def __init__(self,\n",
        "                 max_depth=np.inf,\n",
        "                 max_leaf_nodes=np.inf,\n",
        "                 min_leaf_samples=1,\n",
        "                 leaf_class=Leaf_clsf):\n",
        "        super().__init__(max_depth=max_depth,\n",
        "                         max_leaf_nodes=max_leaf_nodes,\n",
        "                         min_leaf_samples=min_leaf_samples,\n",
        "                         leaf_class=Leaf_clsf)\n",
        "\n",
        "    # Расчет критерия Джини\n",
        "    def criterion(self,\n",
        "                  labels):\n",
        "        #  подсчет количества объектов разных классов\n",
        "        classes = {}\n",
        "        for label in labels:\n",
        "            if label not in classes:\n",
        "                classes[label] = 0\n",
        "            classes[label] += 1\n",
        "\n",
        "        #  расчет критерия\n",
        "        impurity = 1\n",
        "        for label in classes:\n",
        "            p = classes[label] / len(labels)\n",
        "            impurity -= p ** 2\n",
        "\n",
        "        return impurity"
      ],
      "metadata": {
        "id": "LkBoUU0jjAaw"
      },
      "execution_count": 35,
      "outputs": []
    },
    {
      "cell_type": "code",
      "source": [
        "class Regression_Tree(BaseTree):\n",
        "    def __init__(self,\n",
        "                 max_depth=np.inf,\n",
        "                 max_leaf_nodes=np.inf,\n",
        "                 min_leaf_samples=1,\n",
        "                 leaf_class=Leaf_regr):\n",
        "        super().__init__(max_depth=max_depth,\n",
        "                         max_leaf_nodes=max_leaf_nodes,\n",
        "                         min_leaf_samples=min_leaf_samples,\n",
        "                         leaf_class=Leaf_regr)\n",
        "\n",
        "    # Расчет дисперсии\n",
        "    def criterion(self, targets):\n",
        "        return np.mean((targets - targets.mean())**2)"
      ],
      "metadata": {
        "id": "ZOx6S1WBjJEV"
      },
      "execution_count": 36,
      "outputs": []
    },
    {
      "cell_type": "code",
      "source": [
        "from sklearn.metrics import accuracy_score\n",
        "\n",
        "clsf = Classification_Tree(max_depth=5)\n",
        "clsf.fit(train_data, train_labels)\n",
        "\n",
        "accuracy_score(train_labels, clsf.predict(train_data)), accuracy_score(test_labels, clsf.predict(test_data))"
      ],
      "metadata": {
        "colab": {
          "base_uri": "https://localhost:8080/"
        },
        "id": "y5L8io7xjMmZ",
        "outputId": "7926f6e6-adc7-463f-eada-237fd1f5442a"
      },
      "execution_count": 37,
      "outputs": [
        {
          "output_type": "execute_result",
          "data": {
            "text/plain": [
              "(0.9185714285714286, 0.8566666666666667)"
            ]
          },
          "metadata": {},
          "execution_count": 37
        }
      ]
    },
    {
      "cell_type": "code",
      "source": [
        "from sklearn.metrics import r2_score\n",
        "\n",
        "regr = Regression_Tree(max_depth=5)\n",
        "regr.fit(train_data_regr, train_target_regr)\n",
        "\n",
        "r2_score(train_target_regr, regr.predict(train_data_regr)), r2_score(test_target_regr, regr.predict(test_data_regr))"
      ],
      "metadata": {
        "colab": {
          "base_uri": "https://localhost:8080/"
        },
        "id": "uQeIMssqjRiA",
        "outputId": "8b36f09e-1a8a-47a4-c2da-da27f6510441"
      },
      "execution_count": 38,
      "outputs": [
        {
          "output_type": "execute_result",
          "data": {
            "text/plain": [
              "(0.9159953829578108, 0.8071102270379656)"
            ]
          },
          "metadata": {},
          "execution_count": 38
        }
      ]
    }
  ]
}