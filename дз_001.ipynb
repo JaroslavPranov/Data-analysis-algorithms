{
  "nbformat": 4,
  "nbformat_minor": 0,
  "metadata": {
    "colab": {
      "name": "дз_001.ipynb",
      "provenance": [],
      "collapsed_sections": []
    },
    "kernelspec": {
      "name": "python3",
      "display_name": "Python 3"
    },
    "language_info": {
      "name": "python"
    }
  },
  "cells": [
    {
      "cell_type": "markdown",
      "source": [
        "1. Подберите скорость обучения (eta) и количество итераций"
      ],
      "metadata": {
        "id": "NxGkkGBpCrjZ"
      }
    },
    {
      "cell_type": "code",
      "source": [
        "import numpy as np"
      ],
      "metadata": {
        "id": "K_1nQimgDQlY"
      },
      "execution_count": null,
      "outputs": []
    },
    {
      "cell_type": "code",
      "source": [
        "X = np.array([[ 1,  1],\n",
        "              [ 1,  1],\n",
        "              [ 1,  2],\n",
        "              [ 1,  5],\n",
        "              [ 1,  3],\n",
        "              [ 1,  0],\n",
        "              [ 1,  5],\n",
        "              [ 1, 10],\n",
        "              [ 1,  1],\n",
        "              [ 1,  2]])"
      ],
      "metadata": {
        "id": "faujeFrEDueM"
      },
      "execution_count": null,
      "outputs": []
    },
    {
      "cell_type": "code",
      "source": [
        "y = [45, 55, 50, 55, 60, 35, 75, 80, 50, 60]"
      ],
      "metadata": {
        "id": "vHqaDeBfEad1"
      },
      "execution_count": null,
      "outputs": []
    },
    {
      "cell_type": "code",
      "source": [
        "def calc_mse(y, y_pred):\n",
        "    err = np.mean((y - y_pred)**2)\n",
        "    return err"
      ],
      "metadata": {
        "id": "IbcFJiubEHNU"
      },
      "execution_count": null,
      "outputs": []
    },
    {
      "cell_type": "code",
      "execution_count": null,
      "metadata": {
        "colab": {
          "base_uri": "https://localhost:8080/"
        },
        "id": "bPhAjgAbClIn",
        "outputId": "edbe29f4-16c5-4827-f035-47ada1755cfe"
      },
      "outputs": [
        {
          "output_type": "stream",
          "name": "stdout",
          "text": [
            "Number of objects = 10        \n",
            "Learning rate = 0.1        \n",
            "Initial weights = [1.  0.5] \n",
            "\n",
            "Iteration #0: W_new = [11.8 38.2], MSE = 3047.75\n",
            "Iteration #10: W_new = [12651.73553914 69617.0969639 ], MSE = 18310954068.05\n",
            "Iteration #20: W_new = [ 7732434.81888022 42641607.3785219 ], MSE = 9128819654907584.0\n",
            "Iteration #30: W_new = [1.06344502e+09 5.86454589e+09], MSE = 2.327920364266856e+20\n",
            "Iteration #40: W_new = [3.00127077e+10 1.65510116e+11], MSE = 2.5451335298159506e+23\n",
            "Iteration #50: W_new = [1.55345341e+11 8.56677968e+11], MSE = 9.57229562050015e+24\n",
            "Iteration #60: W_new = [1.27742291e+11 7.04456313e+11], MSE = 9.351480126476032e+24\n",
            "Iteration #70: W_new = [1.38141953e+10 7.61806995e+10], MSE = 1.6408589528283956e+23\n",
            "Iteration #80: W_new = [1.51674189e+08 8.36432543e+08], MSE = 3.125533537874477e+19\n",
            "Iteration #90: W_new = [116395.49979888 641638.79865787], MSE = 31317286806394.44\n",
            "Iteration #100: W_new = [48.41960685 22.99884954], MSE = 53518.86\n",
            "Iteration #110: W_new = [44.97711882  3.8279907 ], MSE = 43.97\n"
          ]
        }
      ],
      "source": [
        "n = X.shape[0]\n",
        "\n",
        "eta = 1e-1\n",
        "# изменения с 1e-2 на 1e-1\n",
        "n_iter = 120\n",
        "# изменения с 100 на 120\n",
        "\n",
        "\n",
        "W = np.array([1, 0.5])\n",
        "print(f'Number of objects = {n} \\\n",
        "       \\nLearning rate = {eta} \\\n",
        "       \\nInitial weights = {W} \\n')\n",
        "\n",
        "for i in range(n_iter):\n",
        "    y_pred = np.dot(X, W)\n",
        "    err = calc_mse(y, y_pred)\n",
        "    for k in range(W.shape[0]):\n",
        "        W[k] -= eta * (1/n * 2 * X[:, k] @ (y_pred - y))\n",
        "    if i % 10 == 0:\n",
        "        eta /= 1.1\n",
        "        print(f'Iteration #{i}: W_new = {W}, MSE = {round(err, 2)}')"
      ]
    }
  ]
}