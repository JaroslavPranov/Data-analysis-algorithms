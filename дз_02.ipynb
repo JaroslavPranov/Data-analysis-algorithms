{
  "nbformat": 4,
  "nbformat_minor": 0,
  "metadata": {
    "colab": {
      "name": "дз_02.ipynb",
      "provenance": [],
      "collapsed_sections": []
    },
    "kernelspec": {
      "name": "python3",
      "display_name": "Python 3"
    },
    "language_info": {
      "name": "python"
    }
  },
  "cells": [
    {
      "cell_type": "markdown",
      "source": [
        "1.Постройте график зависимости весов всех признаков от lambda в самописной L2-регуляризации (на данных про ЕГЭ). Сделайте вывод."
      ],
      "metadata": {
        "id": "CyyMgjyF55TI"
      }
    },
    {
      "cell_type": "code",
      "execution_count": 51,
      "metadata": {
        "id": "zwETyjxY5BTX"
      },
      "outputs": [],
      "source": [
        "import numpy as np\n",
        "import matplotlib.pyplot as plt\n",
        "from tqdm import tqdm\n",
        "import warnings\n",
        "warnings.filterwarnings('ignore')"
      ]
    },
    {
      "cell_type": "markdown",
      "source": [
        "__Задача:__ предсказание баллов ЕГЭ ученика"
      ],
      "metadata": {
        "id": "v5DTlKWtqfaF"
      }
    },
    {
      "cell_type": "code",
      "source": [
        "X = np.array([[   1,    1,  500,    1],\n",
        "              [   1,    1,  700,    1],\n",
        "              [   1,    2,  750,    2],\n",
        "              [   1,    5,  600,    1],\n",
        "              [   1,    3, 1450,    2],\n",
        "              [   1,    0,  800,    1],\n",
        "              [   1,    5, 1500,    3],\n",
        "              [   1,   10, 2000,    3],\n",
        "              [   1,    1,  450,    1],\n",
        "              [   1,    2, 1000,    2]])\n",
        "y = [45, 55, 50, 55, 60, 35, 75, 80, 50, 60]"
      ],
      "metadata": {
        "id": "AS5KjCpS5K9I"
      },
      "execution_count": 52,
      "outputs": []
    },
    {
      "cell_type": "markdown",
      "source": [
        "Стандартизация"
      ],
      "metadata": {
        "id": "BcjCvX1R5gK2"
      }
    },
    {
      "cell_type": "code",
      "source": [
        "def standard_scale(X):\n",
        "    mean = X.mean()\n",
        "    std = X.std()\n",
        "    return (X - mean) / std"
      ],
      "metadata": {
        "id": "D0kpDs_q6ncn"
      },
      "execution_count": 53,
      "outputs": []
    },
    {
      "cell_type": "code",
      "source": [
        "X_st = X.copy().astype(np.float64)\n",
        "X_st[:, 1] = standard_scale(X_st[:, 1])\n",
        "X_st[:, 2] = standard_scale(X_st[:, 2])\n",
        "X_st[:, 3] = standard_scale(X_st[:, 3])\n",
        "\n",
        "X_st"
      ],
      "metadata": {
        "colab": {
          "base_uri": "https://localhost:8080/"
        },
        "id": "afkSObaS6rRa",
        "outputId": "83b0f241-90be-4c6b-e834-603d95d8dcbb"
      },
      "execution_count": 54,
      "outputs": [
        {
          "output_type": "execute_result",
          "data": {
            "text/plain": [
              "array([[ 1.        , -0.70710678, -0.97958969, -0.89625816],\n",
              "       [ 1.        , -0.70710678, -0.56713087, -0.89625816],\n",
              "       [ 1.        , -0.35355339, -0.46401617,  0.38411064],\n",
              "       [ 1.        ,  0.70710678, -0.77336028, -0.89625816],\n",
              "       [ 1.        ,  0.        ,  0.97958969,  0.38411064],\n",
              "       [ 1.        , -1.06066017, -0.36090146, -0.89625816],\n",
              "       [ 1.        ,  0.70710678,  1.08270439,  1.66447944],\n",
              "       [ 1.        ,  2.47487373,  2.11385144,  1.66447944],\n",
              "       [ 1.        , -0.70710678, -1.08270439, -0.89625816],\n",
              "       [ 1.        , -0.35355339,  0.05155735,  0.38411064]])"
            ]
          },
          "metadata": {},
          "execution_count": 54
        }
      ]
    },
    {
      "cell_type": "code",
      "source": [
        "ind = 2\n",
        "print(np.mean(X_st[:, ind]), np.std(X_st[:, ind]))\n",
        "plt.hist(X_st[:, ind])\n",
        "plt.show()"
      ],
      "metadata": {
        "colab": {
          "base_uri": "https://localhost:8080/",
          "height": 282
        },
        "id": "Gx45DKH-q6Jk",
        "outputId": "152e6659-ad07-4496-8b68-f983ced62522"
      },
      "execution_count": 55,
      "outputs": [
        {
          "output_type": "stream",
          "name": "stdout",
          "text": [
            "-4.163336342344337e-17 0.9999999999999999\n"
          ]
        },
        {
          "output_type": "display_data",
          "data": {
            "image/png": "[encoded data removed]",
            "text/plain": [
              "<Figure size 432x288 with 1 Axes>"
            ]
          },
          "metadata": {
            "needs_background": "light"
          }
        }
      ]
    },
    {
      "cell_type": "code",
      "source": [
        "def calc_mse(y, y_pred):\n",
        "    err = np.mean((y - y_pred)**2)\n",
        "    return err"
      ],
      "metadata": {
        "id": "pExwkkTp7PaV"
      },
      "execution_count": 56,
      "outputs": []
    },
    {
      "cell_type": "markdown",
      "source": [
        "График зависимости весов всех признаков от lambda в самописной L2-регуляризации"
      ],
      "metadata": {
        "id": "RjhaOqPEzJUg"
      }
    },
    {
      "cell_type": "code",
      "source": [
        "def gradient_descent_reg_l2(X, y, iterations, eta=1e-4, reg=1e-8):\n",
        "    W = np.random.randn(X.shape[1])\n",
        "    n = X.shape[0]\n",
        "    \n",
        "    for i in range(0, iterations):\n",
        "        y_pred = np.dot(X, W)\n",
        "        err = calc_mse(y, y_pred)\n",
        "        \n",
        "        dQ = 2/n * X.T @ (y_pred - y) # градиент функции ошибки\n",
        "        dReg = reg * W # градиент регуляризации\n",
        "        \n",
        "        W -= eta * dQ + dReg\n",
        "        \n",
        "#         if i % (iterations / 10) == 0:\n",
        "#             print(f'Iter: {i}, weights: {W}, error {err}')\n",
        "    \n",
        "#     print(f'Final MSE: {calc_mse(y, np.dot(X, W))}')\n",
        "    return W"
      ],
      "metadata": {
        "id": "waB3nU3C7bgz"
      },
      "execution_count": 57,
      "outputs": []
    },
    {
      "cell_type": "code",
      "source": [
        "gradient_descent_reg_l2(X_st, y, iterations=5000, eta=1e-2, reg=1e-4)"
      ],
      "metadata": {
        "colab": {
          "base_uri": "https://localhost:8080/"
        },
        "id": "wDK0PuEC7gwB",
        "outputId": "fc567247-bf0e-4acc-ba38-1f46dada1b92"
      },
      "execution_count": 58,
      "outputs": [
        {
          "output_type": "execute_result",
          "data": {
            "text/plain": [
              "array([56.21890547,  6.23067176, -0.16461018,  6.42091023])"
            ]
          },
          "metadata": {},
          "execution_count": 58
        }
      ]
    },
    {
      "cell_type": "code",
      "source": [
        "np.linspace(0, 1, 10)"
      ],
      "metadata": {
        "colab": {
          "base_uri": "https://localhost:8080/"
        },
        "id": "054olpkWwBI_",
        "outputId": "370e0f68-acfe-4451-8c3a-a7ec361fd2eb"
      },
      "execution_count": 59,
      "outputs": [
        {
          "output_type": "execute_result",
          "data": {
            "text/plain": [
              "array([0.        , 0.11111111, 0.22222222, 0.33333333, 0.44444444,\n",
              "       0.55555556, 0.66666667, 0.77777778, 0.88888889, 1.        ])"
            ]
          },
          "metadata": {},
          "execution_count": 59
        }
      ]
    },
    {
      "cell_type": "code",
      "source": [
        "n = 10\n",
        "\n",
        "coeffs = np.zeros((n, X_st.shape[1]))\n",
        "lambda_list = np.linspace(0, 1, n)\n",
        "\n",
        "for i, val in tqdm(enumerate(lambda_list)):\n",
        "    weights = gradient_descent_reg_l2(X_st, y, iterations=5000, eta=1e-2, reg=val)\n",
        "    coeffs[i, :] = weights\n",
        "\n",
        "\n",
        "plt.figure(figsize=(10, 6))\n",
        "for i in range(X_st.shape[1]):\n",
        "    plt.plot(lambda_list, coeffs[:, i])\n",
        "\n",
        "    \n",
        "plt.title('Убывание абсолютных значений весов признаков\\n при увеличении коэффициента регуляризации')\n",
        "plt.xlabel('lambda')\n",
        "plt.ylabel('Вес признака');"
      ],
      "metadata": {
        "colab": {
          "base_uri": "https://localhost:8080/",
          "height": 436
        },
        "id": "OiUZjwb2wLx0",
        "outputId": "4450fe5c-c4b6-4eb3-ba7a-057577130b7a"
      },
      "execution_count": 60,
      "outputs": [
        {
          "output_type": "stream",
          "name": "stderr",
          "text": [
            "10it [00:02,  4.19it/s]\n"
          ]
        },
        {
          "output_type": "display_data",
          "data": {
            "image/png": "[encoded data removed]",
            "text/plain": [
              "<Figure size 720x432 with 1 Axes>"
            ]
          },
          "metadata": {
            "needs_background": "light"
          }
        }
      ]
    },
    {
      "cell_type": "markdown",
      "source": [
        "Вывод - с увеличением коэффициэнта регуляризации веса становяться меньше."
      ],
      "metadata": {
        "id": "kUb8mKF45aEX"
      }
    },
    {
      "cell_type": "markdown",
      "source": [
        "\n",
        "2.Напишите функцию наподобие gradient_descent_reg_l2, но для применения L1-регуляризации."
      ],
      "metadata": {
        "id": "LLCAgawt6Sly"
      }
    },
    {
      "cell_type": "code",
      "source": [
        "#W / np.abs(W)\n",
        "#+1 / 1 = +\n",
        "#-1 / 1 = -\n",
        "#0 / 0 = nan"
      ],
      "metadata": {
        "id": "i-ML0yJT6VZ3"
      },
      "execution_count": 65,
      "outputs": []
    },
    {
      "cell_type": "code",
      "source": [
        "np.sign(0)"
      ],
      "metadata": {
        "colab": {
          "base_uri": "https://localhost:8080/"
        },
        "id": "WxnfB_ZX6XNO",
        "outputId": "de165865-e178-4045-9ef7-89956e4d3b7c"
      },
      "execution_count": 62,
      "outputs": [
        {
          "output_type": "execute_result",
          "data": {
            "text/plain": [
              "0"
            ]
          },
          "metadata": {},
          "execution_count": 62
        }
      ]
    },
    {
      "cell_type": "code",
      "source": [
        "def gradient_descent_reg_l1(X, y, iterations, eta=1e-4, reg=1e-8):\n",
        "    W = np.random.randn(X.shape[1])\n",
        "    n = X.shape[0]\n",
        "    \n",
        "    for i in range(0, iterations):\n",
        "        y_pred = np.dot(X, W)\n",
        "        err = calc_mse(y, y_pred)\n",
        "        \n",
        "        dQ = 2/n * X.T @ (y_pred - y) # градиент функции ошибки\n",
        "        dReg = reg * W # градиент регуляризации\n",
        "        \n",
        "        W -= eta * (dQ + dReg)\n",
        "        \n",
        "        if i % (iterations / 10) == 0:\n",
        "            print(f'Iter: {i}, weights: {W}, error {err}')\n",
        "    \n",
        "    print(f'Final MSE: {calc_mse(y, np.dot(X, W))}')\n",
        "    return W"
      ],
      "metadata": {
        "id": "awg3sNzJ6Z-T"
      },
      "execution_count": 63,
      "outputs": []
    },
    {
      "cell_type": "code",
      "source": [
        "gradient_descent_reg_l1(X_st, y, iterations=5000, eta=1e-2, reg=1e-2)"
      ],
      "metadata": {
        "colab": {
          "base_uri": "https://localhost:8080/"
        },
        "id": "jnEWC44l6cAI",
        "outputId": "d910c903-3fee-4b77-ea5d-a83d14d6d862"
      },
      "execution_count": 64,
      "outputs": [
        {
          "output_type": "stream",
          "name": "stdout",
          "text": [
            "Iter: 0, weights: [-0.24304518 -0.62851776  0.39375758  0.12105688], error 3530.7014823187906\n",
            "Iter: 500, weights: [56.2167044   5.83611734  1.29197595  5.30710938], error 25.454474131665986\n",
            "Iter: 1000, weights: [56.21890539  6.12477267  0.32482792  6.02123526], error 25.066130390161668\n",
            "Iter: 1500, weights: [5.62189055e+01 6.19584957e+00 2.43881017e-03 6.28323851e+00], error 25.00712726747157\n",
            "Iter: 2000, weights: [56.21890547  6.21883284 -0.10750741  6.37378817], error 24.995328364902914\n",
            "Iter: 2500, weights: [56.21890547  6.2266355  -0.14512699  6.40482943], error 24.99227113273858\n",
            "Iter: 3000, weights: [56.21890547  6.22930356 -0.15800509  6.41545845], error 24.991339494486105\n",
            "Iter: 3500, weights: [56.21890547  6.23021681 -0.16241387  6.41909741], error 24.991034021674263\n",
            "Iter: 4000, weights: [56.21890547  6.23052946 -0.16392322  6.42034322], error 24.990931021754633\n",
            "Iter: 4500, weights: [56.21890547  6.23063649 -0.16443995  6.42076972], error 24.99089594467508\n",
            "Final MSE: 24.99088395768657\n"
          ]
        },
        {
          "output_type": "execute_result",
          "data": {
            "text/plain": [
              "array([56.21890547,  6.2306731 , -0.16461665,  6.42091557])"
            ]
          },
          "metadata": {},
          "execution_count": 64
        }
      ]
    },
    {
      "cell_type": "markdown",
      "source": [
        "3. *Можно ли к одному и тому же признаку применить сразу и нормализацию, и стандартизацию?"
      ],
      "metadata": {
        "id": "XPGie2Bt8n3I"
      }
    },
    {
      "cell_type": "code",
      "source": [
        "def standard_scale(X):\n",
        "    mean = X.mean(axis=0)\n",
        "    std = X.std(axis=0)\n",
        "    return (X - mean) / std"
      ],
      "metadata": {
        "id": "zTCt4ncq8pEI"
      },
      "execution_count": 66,
      "outputs": []
    },
    {
      "cell_type": "code",
      "source": [
        "def min_max_scale(X):\n",
        "    return (X - X.min(axis=0)) / (X.max(axis=0) - X.min(axis=0))"
      ],
      "metadata": {
        "id": "qy0fEDiF8rwh"
      },
      "execution_count": 67,
      "outputs": []
    },
    {
      "cell_type": "code",
      "source": [
        "X_norm = X.copy().astype('float64')\n",
        "X_norm = min_max_scale(X_norm[:, 1:])\n",
        "X_norm.min(axis=0), X_norm.max(axis=0)"
      ],
      "metadata": {
        "colab": {
          "base_uri": "https://localhost:8080/"
        },
        "id": "NL5a0IeR8tk-",
        "outputId": "5b0a6ec9-41db-4f9e-9404-784ec3fac5a1"
      },
      "execution_count": 68,
      "outputs": [
        {
          "output_type": "execute_result",
          "data": {
            "text/plain": [
              "(array([0., 0., 0.]), array([1., 1., 1.]))"
            ]
          },
          "metadata": {},
          "execution_count": 68
        }
      ]
    },
    {
      "cell_type": "code",
      "source": [
        "X_norm.mean(axis=0), X_norm.std(axis=0)"
      ],
      "metadata": {
        "colab": {
          "base_uri": "https://localhost:8080/"
        },
        "id": "P5GWgOUV8vEu",
        "outputId": "a32e7d92-91a4-4ec0-ad74-2a097086ba2d"
      },
      "execution_count": 69,
      "outputs": [
        {
          "output_type": "execute_result",
          "data": {
            "text/plain": [
              "(array([0.3       , 0.33870968, 0.35      ]),\n",
              " array([0.28284271, 0.31283671, 0.39051248]))"
            ]
          },
          "metadata": {},
          "execution_count": 69
        }
      ]
    },
    {
      "cell_type": "code",
      "source": [
        "X_norm_st = standard_scale(X_norm)\n",
        "X_norm_st.min(axis=0), X_norm_st.max(axis=0)"
      ],
      "metadata": {
        "colab": {
          "base_uri": "https://localhost:8080/"
        },
        "id": "nUPaLfYK8w3N",
        "outputId": "c3bf4f50-389e-4b0f-9c24-bf8e46addc3a"
      },
      "execution_count": 70,
      "outputs": [
        {
          "output_type": "execute_result",
          "data": {
            "text/plain": [
              "(array([-1.06066017, -1.08270439, -0.89625816]),\n",
              " array([2.47487373, 2.11385144, 1.66447944]))"
            ]
          },
          "metadata": {},
          "execution_count": 70
        }
      ]
    },
    {
      "cell_type": "code",
      "source": [
        "X_norm_st.mean(axis=0), X_norm_st.std(axis=0)"
      ],
      "metadata": {
        "colab": {
          "base_uri": "https://localhost:8080/"
        },
        "id": "eV9ddCsM8zay",
        "outputId": "d4437382-a52a-4436-bab2-ada62eb5e81d"
      },
      "execution_count": 71,
      "outputs": [
        {
          "output_type": "execute_result",
          "data": {
            "text/plain": [
              "(array([-1.49880108e-16, -6.86950496e-17,  8.32667268e-17]),\n",
              " array([1., 1., 1.]))"
            ]
          },
          "metadata": {},
          "execution_count": 71
        }
      ]
    },
    {
      "cell_type": "markdown",
      "source": [
        "Вывод - последняя операция полностью стирает предыдущую."
      ],
      "metadata": {
        "id": "7fHgLpE59XYy"
      }
    },
    {
      "cell_type": "markdown",
      "source": [
        "4. *Сгенерируйте датасет при помощи sklearn.datasets.make_regression и обучите линейную модель при помощи градиентного и стохастического градиентного спуска. Нанесите среднеквадратичную ошибку для обоих методов на один график, сделайте выводы о разнице скорости сходимости каждого из методов."
      ],
      "metadata": {
        "id": "wXDndj6n9jKp"
      }
    },
    {
      "cell_type": "code",
      "source": [
        "from sklearn import datasets\n",
        "\n",
        "X, Y, coef = datasets.make_regression(n_samples=100000, n_features=20, n_informative=10, n_targets=1, \n",
        "                                      noise=5, coef=True, random_state=2)\n",
        "display(X, Y, coef)"
      ],
      "metadata": {
        "id": "jo0EwFhW9n83"
      },
      "execution_count": null,
      "outputs": []
    },
    {
      "cell_type": "code",
      "source": [
        "X = standard_scale(X)"
      ],
      "metadata": {
        "id": "0aLC2Pmp9rr-"
      },
      "execution_count": 73,
      "outputs": []
    },
    {
      "cell_type": "code",
      "source": [
        "# стохастический градиентный спуск\n",
        "def stohastic_gradient_descent(X, Y, iterations, eta=1e-4, size=1):\n",
        "    W = np.random.randn(X.shape[1])\n",
        "    n = X.shape[0]\n",
        "    \n",
        "    errors = []\n",
        "    w_list = [W.copy()]\n",
        "    for i in range(0, iterations):\n",
        "        train_ind = np.random.randint(X.shape[0], size=size)\n",
        "\n",
        "        y_pred = np.dot(X[train_ind], W)\n",
        "        W = W - eta * 2 / Y[train_ind].shape[0] * np.dot(X[train_ind].T, y_pred - Y[train_ind])\n",
        "\n",
        "        error = calc_mse(Y, np.dot(X, W))\n",
        "        errors.append(error)\n",
        "        w_list.append(W)\n",
        "        \n",
        "        if i % (iterations / 10) == 0:\n",
        "            print(f'Iter: {i}, error {error}')\n",
        "    \n",
        "    print(f'Final MSE: {calc_mse(Y, np.dot(X, W))}')\n",
        "    return W, errors, w_list"
      ],
      "metadata": {
        "id": "xsW68-hR9xXB"
      },
      "execution_count": 74,
      "outputs": []
    },
    {
      "cell_type": "code",
      "source": [
        "# классический  GD\n",
        "def gradient_descent(X, y, iterations, eta=1e-4):\n",
        "    W = np.random.randn(X.shape[1])\n",
        "    n = X.shape[0]\n",
        "    \n",
        "    errors = []\n",
        "    w_list = [W.copy()]\n",
        "    for i in range(0, iterations):\n",
        "        y_pred = np.dot(X, W)\n",
        "        err = calc_mse(y, y_pred)\n",
        "        errors.append(err)\n",
        "        \n",
        "        dQ = 2/n * X.T @ (y_pred - y) # градиент функции ошибки\n",
        "        W -= (eta * dQ)\n",
        "        w_list.append(W.copy())\n",
        "        \n",
        "        if i % (iterations / 10) == 0:\n",
        "            print(f'Iter: {i}, error {err}')\n",
        "        \n",
        "    print(f'Final MSE: {calc_mse(y, np.dot(X, W))}')\n",
        "    return W, errors, w_list"
      ],
      "metadata": {
        "id": "gBT1yRVm90XP"
      },
      "execution_count": 77,
      "outputs": []
    },
    {
      "cell_type": "code",
      "source": [
        "%%time\n",
        "weights_GD, errors_GD, w_list_GD = gradient_descent(X, Y, iterations=5000, eta=1e-3)"
      ],
      "metadata": {
        "colab": {
          "base_uri": "https://localhost:8080/"
        },
        "id": "QsQoRSd492nB",
        "outputId": "619694f4-ea00-4c76-d266-bd2c10784df1"
      },
      "execution_count": 76,
      "outputs": [
        {
          "output_type": "stream",
          "name": "stdout",
          "text": [
            "Iter: 0, error 28273.082577173664\n",
            "Iter: 500, error 3777.783523237347\n",
            "Iter: 1000, error 523.9841505461728\n",
            "Iter: 1500, error 91.45089435114762\n",
            "Iter: 2000, error 33.910760109943865\n",
            "Iter: 2500, error 26.250445797925806\n",
            "Iter: 3000, error 25.229863169553205\n",
            "Iter: 3500, error 25.093788617760474\n",
            "Iter: 4000, error 25.075632044484834\n",
            "Iter: 4500, error 25.07320755700852\n",
            "Final MSE: 25.07288356394624\n",
            "CPU times: user 1min 3s, sys: 25.1 s, total: 1min 28s\n",
            "Wall time: 45.6 s\n"
          ]
        }
      ]
    },
    {
      "cell_type": "code",
      "source": [
        "%%time\n",
        "weights_SGD, errors_SGD, w_list_SGD = stohastic_gradient_descent(X, Y, iterations=5000, eta=1e-3, size=1)"
      ],
      "metadata": {
        "colab": {
          "base_uri": "https://localhost:8080/"
        },
        "id": "J8S4DqAi-JKr",
        "outputId": "14eb7172-f7dc-44f8-94f8-e2dc0a47ea48"
      },
      "execution_count": 78,
      "outputs": [
        {
          "output_type": "stream",
          "name": "stdout",
          "text": [
            "Iter: 0, error 27744.728544215483\n",
            "Iter: 500, error 3368.5430672732723\n",
            "Iter: 1000, error 572.2807837049544\n",
            "Iter: 1500, error 110.6890938947377\n",
            "Iter: 2000, error 41.79831986296467\n",
            "Iter: 2500, error 27.962046555606424\n",
            "Iter: 3000, error 26.34637266574447\n",
            "Iter: 3500, error 25.63342400764663\n",
            "Iter: 4000, error 25.352515476998224\n",
            "Iter: 4500, error 25.547940572923004\n",
            "Final MSE: 25.291571745440745\n",
            "CPU times: user 13.6 s, sys: 4.62 s, total: 18.3 s\n",
            "Wall time: 9.44 s\n"
          ]
        }
      ]
    },
    {
      "cell_type": "code",
      "source": [
        "# Визуализируем изменение функционала ошибки\n",
        "plt.plot(range(len(errors_GD)), errors_GD, color='b', label='GD')\n",
        "plt.plot(range(len(errors_SGD)), errors_SGD, color='g', label='SGD')\n",
        "\n",
        "plt.title('MSE')\n",
        "plt.xlabel('Iteration number')\n",
        "plt.ylabel('MSE')\n",
        "plt.xlim(0, 1000)\n",
        "plt.legend();"
      ],
      "metadata": {
        "colab": {
          "base_uri": "https://localhost:8080/",
          "height": 295
        },
        "id": "OkODNjyI-OMZ",
        "outputId": "a6008a32-1650-48a4-e644-77aa62e81559"
      },
      "execution_count": 79,
      "outputs": [
        {
          "output_type": "display_data",
          "data": {
            "image/png": "[encoded data removed]",
            "text/plain": [
              "<Figure size 432x288 with 1 Axes>"
            ]
          },
          "metadata": {
            "needs_background": "light"
          }
        }
      ]
    },
    {
      "cell_type": "code",
      "source": [
        "w_list_GD = np.array(w_list_GD)\n",
        "w_list_SGD = np.array(w_list_SGD)"
      ],
      "metadata": {
        "id": "YCBTPIq9-iMf"
      },
      "execution_count": 80,
      "outputs": []
    },
    {
      "cell_type": "code",
      "source": [
        "# Визуализируем изменение весов (красной точкой обозначены истинные веса, сгенерированные вначале)\n",
        "plt.figure(figsize=(13, 6))\n",
        "plt.title('Compare SGD and GD')\n",
        "plt.xlabel(r'$w_1$')\n",
        "plt.ylabel(r'$w_2$')\n",
        "\n",
        "plt.scatter(w_list_GD[:, 0], w_list_GD[:, 1], color='b')\n",
        "plt.plot(w_list_GD[:, 0], w_list_GD[:, 1], color='b', label='GD')\n",
        "\n",
        "plt.scatter(w_list_SGD[:, 0], w_list_SGD[:, 1], color='g')\n",
        "plt.plot(w_list_SGD[:, 0], w_list_SGD[:, 1], color='g', label='SGD')\n",
        "plt.scatter(coef[0], coef[1], c='r')\n",
        "\n",
        "plt.legend()\n",
        "plt.show()"
      ],
      "metadata": {
        "colab": {
          "base_uri": "https://localhost:8080/",
          "height": 406
        },
        "id": "B9pT9oZ9-keb",
        "outputId": "fddfc561-e606-47a7-9394-926bdf5ad67c"
      },
      "execution_count": 81,
      "outputs": [
        {
          "output_type": "display_data",
          "data": {
            "image/png": "[encoded data removed]",
            "text/plain": [
              "<Figure size 936x432 with 1 Axes>"
            ]
          },
          "metadata": {
            "needs_background": "light"
          }
        }
      ]
    }
  ]
}