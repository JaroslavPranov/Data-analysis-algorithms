{
  "nbformat": 4,
  "nbformat_minor": 0,
  "metadata": {
    "colab": {
      "name": "Дз_07.ipynb",
      "provenance": [],
      "collapsed_sections": []
    },
    "kernelspec": {
      "name": "python3",
      "display_name": "Python 3"
    },
    "language_info": {
      "name": "python"
    }
  },
  "cells": [
    {
      "cell_type": "markdown",
      "source": [
        "### Домашнее задание <a class=\"anchor\" id=\"hw\"></a><center>"
      ],
      "metadata": {
        "id": "qYBt0jPMw_qa"
      }
    },
    {
      "cell_type": "code",
      "execution_count": 18,
      "metadata": {
        "id": "O7QGd1k5w7Ho"
      },
      "outputs": [],
      "source": [
        "import numpy as np\n",
        "from sklearn.model_selection import train_test_split\n",
        "from sklearn.datasets import load_iris\n",
        "import matplotlib.pyplot as plt\n",
        "from matplotlib.colors import ListedColormap"
      ]
    },
    {
      "cell_type": "markdown",
      "source": [
        "Загрузим один из \"игрушечных\" датасетов из sklearn."
      ],
      "metadata": {
        "id": "RYlJlWzjxI31"
      }
    },
    {
      "cell_type": "code",
      "source": [
        "X, y = load_iris(return_X_y=True)\n",
        "\n",
        "# Для наглядности возьмем только первые два признака (всего в датасете их 4)\n",
        "# X = X[:, :2]"
      ],
      "metadata": {
        "id": "jRW334F3xMEB"
      },
      "execution_count": 19,
      "outputs": []
    },
    {
      "cell_type": "markdown",
      "source": [
        "Разделим выборку на обучающую и тестовую"
      ],
      "metadata": {
        "id": "_OHixme_xOyv"
      }
    },
    {
      "cell_type": "code",
      "source": [
        "X_train, X_test, y_train, y_test = train_test_split(X, y,\n",
        "                                                    test_size=0.2,\n",
        "                                                    random_state=1,\n",
        "                                                    stratify=y)"
      ],
      "metadata": {
        "id": "4RcEZ7Y6xRFk"
      },
      "execution_count": 20,
      "outputs": []
    },
    {
      "cell_type": "markdown",
      "source": [
        "Используем евклидову метрику. Реализуем функцию для ее подсчета."
      ],
      "metadata": {
        "id": "0MC7q59ZxUzZ"
      }
    },
    {
      "cell_type": "code",
      "source": [
        "def e_metrics(x1, x2):\n",
        "\n",
        "    distance = np.sum(np.square(x1 - x2))\n",
        "\n",
        "    return np.sqrt(distance)"
      ],
      "metadata": {
        "id": "8um5Z0RtxXao"
      },
      "execution_count": 21,
      "outputs": []
    },
    {
      "cell_type": "markdown",
      "source": [
        "Реализуем алгоритм поиска k ближайших соседей."
      ],
      "metadata": {
        "id": "x2QG_MYPxZxK"
      }
    },
    {
      "cell_type": "code",
      "source": [
        "def knn(x_train, y_train, x_test, k):\n",
        "    \n",
        "    answers = []\n",
        "    for x in x_test:\n",
        "        test_distances = []\n",
        "            \n",
        "        for i in range(len(x_train)):\n",
        "            \n",
        "            # расчет расстояния от классифицируемого объекта до\n",
        "            # объекта обучающей выборки\n",
        "            distance = e_metrics(x, x_train[i])\n",
        "            \n",
        "            # Записываем в список значение расстояния и ответа на объекте обучающей выборки\n",
        "            test_distances.append((distance, y_train[i]))\n",
        "        \n",
        "        # создаем словарь со всеми возможными классами\n",
        "        classes = {class_item: 0 for class_item in set(y_train)}\n",
        "        \n",
        "        # Сортируем список и среди первых k элементов подсчитаем частоту появления разных классов\n",
        "        for d in sorted(test_distances)[0:k]:\n",
        "            classes[d[1]] += 1\n",
        "\n",
        "        # Записываем в список ответов наиболее часто встречающийся класс\n",
        "        answers.append(sorted(classes, key=classes.get)[-1])\n",
        "        \n",
        "    return answers"
      ],
      "metadata": {
        "id": "tVD9bqsaxeNf"
      },
      "execution_count": 22,
      "outputs": []
    },
    {
      "cell_type": "markdown",
      "source": [
        "Напишем функцию для вычисления точности"
      ],
      "metadata": {
        "id": "9VZhvuqVxg1m"
      }
    },
    {
      "cell_type": "code",
      "source": [
        "def accuracy(pred, y):\n",
        "    return (sum(pred == y) / len(y))"
      ],
      "metadata": {
        "id": "rQjEMdcQxjLm"
      },
      "execution_count": 23,
      "outputs": []
    },
    {
      "cell_type": "markdown",
      "source": [
        "Проверим работу алгоритма при различных k"
      ],
      "metadata": {
        "id": "ujlJStLqxn2D"
      }
    },
    {
      "cell_type": "code",
      "source": [
        "k = 100\n",
        "\n",
        "y_pred_train = knn(X_train, y_train, X_train, k)\n",
        "y_pred = knn(X_train, y_train, X_test, k)\n",
        "\n",
        "print(f'Точность алгоритма на трейне при k = {k}: {accuracy(y_pred_train, y_train):.3f}')\n",
        "print(f'Точность алгоритма на тесте при k = {k}: {accuracy(y_pred, y_test):.3f}')"
      ],
      "metadata": {
        "colab": {
          "base_uri": "https://localhost:8080/"
        },
        "id": "kXblkt97xsoZ",
        "outputId": "f60b7394-ae69-4a7b-92fc-6f88276af086"
      },
      "execution_count": 24,
      "outputs": [
        {
          "output_type": "stream",
          "name": "stdout",
          "text": [
            "Точность алгоритма на трейне при k = 100: 0.500\n",
            "Точность алгоритма на тесте при k = 100: 0.467\n"
          ]
        }
      ]
    },
    {
      "cell_type": "markdown",
      "source": [
        "**1. К алгоритму kNN, реализованному на уроке, реализовать добавление весов для соседей по любому из показанных на уроке принципов.**"
      ],
      "metadata": {
        "id": "p1ZaXwW8xoM4"
      }
    },
    {
      "cell_type": "code",
      "source": [
        "def knn(x_train, y_train, x_test, k, weights=None):\n",
        "    \n",
        "    answers = []\n",
        "    for x in x_test:\n",
        "        test_distances = []\n",
        "            \n",
        "        for i in range(len(x_train)):\n",
        "            \n",
        "            # расчет расстояния от классифицируемого объекта до\n",
        "            # объекта обучающей выборки\n",
        "            distance = e_metrics(x, x_train[i])\n",
        "            \n",
        "            # Записываем в список значение расстояния и ответа на объекте обучающей выборки\n",
        "            test_distances.append((distance, y_train[i]))\n",
        "        \n",
        "        # создаем словарь со всеми возможными классами\n",
        "        classes = {class_item: 0 for class_item in set(y_train)}\n",
        "        \n",
        "        # Сортируем список и среди первых k элементов подсчитаем частоту появления разных классов\n",
        "        for i, d in enumerate(sorted(test_distances)[0:k]):\n",
        "            w = weights(i, d[0]) if weights else 1\n",
        "            \n",
        "            classes[d[1]] += w\n",
        "\n",
        "        # Записываем в список ответов наиболее часто встречающийся класс\n",
        "        answers.append(sorted(classes, key=classes.get)[-1])\n",
        "        \n",
        "    return answers"
      ],
      "metadata": {
        "id": "i-cdbBpJx3AY"
      },
      "execution_count": 25,
      "outputs": []
    },
    {
      "cell_type": "markdown",
      "source": [
        "**От номера соседа $i$ веса можно определять как:**\n",
        "\n",
        "### - $w(i) = q^{i}$,   $q \\in (0,1)$;"
      ],
      "metadata": {
        "id": "WfE8eCdgx-5E"
      }
    },
    {
      "cell_type": "code",
      "source": [
        "def weights_n_neighbor(i, d):\n",
        "    q = 0.6\n",
        "    return q ** i"
      ],
      "metadata": {
        "id": "xegVNbwdyBbD"
      },
      "execution_count": 26,
      "outputs": []
    },
    {
      "cell_type": "code",
      "source": [
        "y_pred_train = knn(X_train, y_train, X_train, k, weights_n_neighbor)\n",
        "y_pred = knn(X_train, y_train, X_test, k, weights_n_neighbor)\n",
        "\n",
        "print(f'Точность алгоритма на трейне при k = {k}: {accuracy(y_pred_train, y_train):.3f}')\n",
        "print(f'Точность алгоритма на тесте при k = {k}: {accuracy(y_pred, y_test):.3f}')"
      ],
      "metadata": {
        "colab": {
          "base_uri": "https://localhost:8080/"
        },
        "id": "_I9UDn8jyEpl",
        "outputId": "0d67bda8-8060-461f-9115-560fbdd51535"
      },
      "execution_count": 27,
      "outputs": [
        {
          "output_type": "stream",
          "name": "stdout",
          "text": [
            "Точность алгоритма на трейне при k = 100: 0.983\n",
            "Точность алгоритма на тесте при k = 100: 0.967\n"
          ]
        }
      ]
    },
    {
      "cell_type": "markdown",
      "source": [
        "### - $w(i) = \\frac{1}{i}$;"
      ],
      "metadata": {
        "id": "sB2j62eZy3A7"
      }
    },
    {
      "cell_type": "code",
      "source": [
        "def weights_n_neighbor(i, d):\n",
        "    return 1 / (i + 1)"
      ],
      "metadata": {
        "id": "vNJmHO13y55j"
      },
      "execution_count": 28,
      "outputs": []
    },
    {
      "cell_type": "code",
      "source": [
        "y_pred_train = knn(X_train, y_train, X_train, k, weights_n_neighbor)\n",
        "y_pred = knn(X_train, y_train, X_test, k, weights_n_neighbor)\n",
        "\n",
        "print(f'Точность алгоритма на трейне при k = {k}: {accuracy(y_pred_train, y_train):.3f}')\n",
        "print(f'Точность алгоритма на тесте при k = {k}: {accuracy(y_pred, y_test):.3f}')"
      ],
      "metadata": {
        "colab": {
          "base_uri": "https://localhost:8080/"
        },
        "id": "OC1Lj13_y9F4",
        "outputId": "ca677189-bbc6-4987-a568-cbcc13d446c2"
      },
      "execution_count": 29,
      "outputs": [
        {
          "output_type": "stream",
          "name": "stdout",
          "text": [
            "Точность алгоритма на трейне при k = 100: 0.992\n",
            "Точность алгоритма на тесте при k = 100: 0.967\n"
          ]
        }
      ]
    },
    {
      "cell_type": "markdown",
      "source": [
        "**От расстояния $d$ веса можно определять как:**\n",
        "\n",
        "### - $w(d) = q^{d}$,   $q \\in (0,1)$;"
      ],
      "metadata": {
        "id": "eVTEmZAeyJ7w"
      }
    },
    {
      "cell_type": "code",
      "source": [
        "def weights_n_neighbor(i, d):\n",
        "    q = 0.2\n",
        "    return q ** d"
      ],
      "metadata": {
        "id": "OiJxwm-6yNLf"
      },
      "execution_count": 30,
      "outputs": []
    },
    {
      "cell_type": "code",
      "source": [
        "y_pred_train = knn(X_train, y_train, X_train, k, weights_n_neighbor)\n",
        "y_pred = knn(X_train, y_train, X_test, k, weights_n_neighbor)\n",
        "\n",
        "print(f'Точность алгоритма на трейне при k = {k}: {accuracy(y_pred_train, y_train):.3f}')\n",
        "print(f'Точность алгоритма на тесте при k = {k}: {accuracy(y_pred, y_test):.3f}')"
      ],
      "metadata": {
        "colab": {
          "base_uri": "https://localhost:8080/"
        },
        "id": "VjiNc2gQyQrz",
        "outputId": "3cf71bab-b80c-42c8-a924-eb53546814ea"
      },
      "execution_count": 31,
      "outputs": [
        {
          "output_type": "stream",
          "name": "stdout",
          "text": [
            "Точность алгоритма на трейне при k = 100: 0.958\n",
            "Точность алгоритма на тесте при k = 100: 0.967\n"
          ]
        }
      ]
    },
    {
      "cell_type": "markdown",
      "source": [
        "### - $w(d) = \\frac{1}{d+a}$,"
      ],
      "metadata": {
        "id": "8ERIPrecyYr7"
      }
    },
    {
      "cell_type": "code",
      "source": [
        "def weights_n_neighbor(i, d):\n",
        "    return 1 / (d + 0.1)"
      ],
      "metadata": {
        "id": "fIrMVLc4ybbS"
      },
      "execution_count": 32,
      "outputs": []
    },
    {
      "cell_type": "code",
      "source": [
        "y_pred_train = knn(X_train, y_train, X_train, k, weights_n_neighbor)\n",
        "y_pred = knn(X_train, y_train, X_test, k, weights_n_neighbor)\n",
        "\n",
        "print(f'Точность алгоритма на трейне при k = {k}: {accuracy(y_pred_train, y_train):.3f}')\n",
        "print(f'Точность алгоритма на тесте при k = {k}: {accuracy(y_pred, y_test):.3f}')"
      ],
      "metadata": {
        "colab": {
          "base_uri": "https://localhost:8080/"
        },
        "id": "tRRZBNspyeY2",
        "outputId": "94240e4c-56a0-437b-e541-8d7c3f688bb0"
      },
      "execution_count": 33,
      "outputs": [
        {
          "output_type": "stream",
          "name": "stdout",
          "text": [
            "Точность алгоритма на трейне при k = 100: 1.000\n",
            "Точность алгоритма на тесте при k = 100: 0.967\n"
          ]
        }
      ]
    },
    {
      "cell_type": "markdown",
      "source": [
        "**3. * Оптимизировать код для KNN (оставить один цикл, либо обойтись без циклов вообще).**"
      ],
      "metadata": {
        "id": "B8u7Bmz70Ptb"
      }
    },
    {
      "cell_type": "code",
      "source": [
        "X = np.vstack([X, X])\n",
        "y = np.hstack([y, y])\n",
        "X.shape, y.shape"
      ],
      "metadata": {
        "colab": {
          "base_uri": "https://localhost:8080/"
        },
        "id": "CCCv4mUl0SEF",
        "outputId": "e6156c4b-7b6d-4c0a-d5ed-5b91b6d76cfe"
      },
      "execution_count": 34,
      "outputs": [
        {
          "output_type": "execute_result",
          "data": {
            "text/plain": [
              "((300, 4), (300,))"
            ]
          },
          "metadata": {},
          "execution_count": 34
        }
      ]
    },
    {
      "cell_type": "code",
      "source": [
        "X_train, X_test, y_train, y_test = train_test_split(X, y,\n",
        "                                                    test_size=0.2,\n",
        "                                                    random_state=1,\n",
        "                                                    stratify=y)"
      ],
      "metadata": {
        "id": "G3NXUbPM0ZJ9"
      },
      "execution_count": 35,
      "outputs": []
    },
    {
      "cell_type": "code",
      "source": [
        "# два цикла\n",
        "def knn(x_train, y_train, x_test, k):\n",
        "    \n",
        "    answers = []\n",
        "    for x in x_test:\n",
        "        test_distances = []\n",
        "            \n",
        "        for i in range(len(x_train)):\n",
        "            \n",
        "            # расчет расстояния от классифицируемого объекта до\n",
        "            # объекта обучающей выборки\n",
        "            distance = e_metrics(x, x_train[i])\n",
        "            \n",
        "            # Записываем в список значение расстояния и ответа на объекте обучающей выборки\n",
        "            test_distances.append((distance, y_train[i]))\n",
        "        \n",
        "        # создаем словарь со всеми возможными классами\n",
        "        classes = {class_item: 0 for class_item in set(y_train)}\n",
        "        \n",
        "        # Сортируем список и среди первых k элементов подсчитаем частоту появления разных классов\n",
        "        for d in sorted(test_distances)[0:k]:\n",
        "            classes[d[1]] += 1\n",
        "\n",
        "        # Записываем в список ответов наиболее часто встречающийся класс\n",
        "        answers.append(sorted(classes, key=classes.get)[-1])\n",
        "        \n",
        "    return answers"
      ],
      "metadata": {
        "id": "UQ4IZuHr0cLk"
      },
      "execution_count": 36,
      "outputs": []
    },
    {
      "cell_type": "code",
      "source": [
        "k = 10\n",
        "\n",
        "%time y_pred_train = knn(X_train, y_train, X_train, k)\n",
        "%time y_pred = knn(X_train, y_train, X_test, k)\n",
        "\n",
        "print(f'Точность алгоритма на трейне при k = {k}: {accuracy(y_pred_train, y_train):.3f}')\n",
        "print(f'Точность алгоритма на тесте при k = {k}: {accuracy(y_pred, y_test):.3f}')"
      ],
      "metadata": {
        "colab": {
          "base_uri": "https://localhost:8080/"
        },
        "id": "MkrpncOe0faI",
        "outputId": "ed10eebe-5ae8-4bfe-c97c-14e14061a569"
      },
      "execution_count": 37,
      "outputs": [
        {
          "output_type": "stream",
          "name": "stdout",
          "text": [
            "CPU times: user 576 ms, sys: 1.33 ms, total: 578 ms\n",
            "Wall time: 583 ms\n",
            "CPU times: user 153 ms, sys: 0 ns, total: 153 ms\n",
            "Wall time: 153 ms\n",
            "Точность алгоритма на трейне при k = 10: 0.975\n",
            "Точность алгоритма на тесте при k = 10: 0.933\n"
          ]
        }
      ]
    },
    {
      "cell_type": "markdown",
      "source": [
        "Один цикл"
      ],
      "metadata": {
        "id": "d_Rgs9m10h-4"
      }
    },
    {
      "cell_type": "code",
      "source": [
        "distance = np.sqrt(np.sum(np.square(X_test[0] - X_train), axis=1))\n",
        "distance.shape"
      ],
      "metadata": {
        "colab": {
          "base_uri": "https://localhost:8080/"
        },
        "id": "lSV7uZan0kGd",
        "outputId": "38f3915e-dc50-4f29-be43-cca0c034763e"
      },
      "execution_count": 38,
      "outputs": [
        {
          "output_type": "execute_result",
          "data": {
            "text/plain": [
              "(240,)"
            ]
          },
          "metadata": {},
          "execution_count": 38
        }
      ]
    },
    {
      "cell_type": "code",
      "source": [
        "np.c_[distance, y_train]"
      ],
      "metadata": {
        "colab": {
          "base_uri": "https://localhost:8080/"
        },
        "id": "VCVbKIHL0m2x",
        "outputId": "620a2ed3-9829-44d4-ecc5-e5e7add09534"
      },
      "execution_count": 39,
      "outputs": [
        {
          "output_type": "execute_result",
          "data": {
            "text/plain": [
              "array([[3.49428104, 0.        ],\n",
              "       [3.48425028, 0.        ],\n",
              "       [0.84261498, 1.        ],\n",
              "       [3.89230009, 0.        ],\n",
              "       [2.73495887, 2.        ],\n",
              "       [1.06301458, 2.        ],\n",
              "       [0.64031242, 1.        ],\n",
              "       [0.6244998 , 1.        ],\n",
              "       [3.60277671, 0.        ],\n",
              "       [3.24037035, 0.        ],\n",
              "       [1.64316767, 2.        ],\n",
              "       [0.9       , 2.        ],\n",
              "       [3.64828727, 0.        ],\n",
              "       [2.96984848, 2.        ],\n",
              "       [3.78549865, 0.        ],\n",
              "       [0.51961524, 1.        ],\n",
              "       [0.93808315, 2.        ],\n",
              "       [2.37065392, 2.        ],\n",
              "       [1.49666295, 2.        ],\n",
              "       [1.83575598, 2.        ],\n",
              "       [3.56791255, 0.        ],\n",
              "       [0.71414284, 1.        ],\n",
              "       [3.22800248, 0.        ],\n",
              "       [0.71414284, 1.        ],\n",
              "       [3.52420204, 0.        ],\n",
              "       [0.86023253, 2.        ],\n",
              "       [1.53948043, 2.        ],\n",
              "       [0.77459667, 1.        ],\n",
              "       [3.89230009, 0.        ],\n",
              "       [4.12431813, 0.        ],\n",
              "       [1.97484177, 1.        ],\n",
              "       [1.06301458, 2.        ],\n",
              "       [0.71414284, 1.        ],\n",
              "       [1.33416641, 2.        ],\n",
              "       [0.34641016, 1.        ],\n",
              "       [0.6244998 , 1.        ],\n",
              "       [1.69410743, 2.        ],\n",
              "       [3.90128184, 0.        ],\n",
              "       [1.83575598, 2.        ],\n",
              "       [1.64012195, 2.        ],\n",
              "       [1.69410743, 2.        ],\n",
              "       [0.46904158, 1.        ],\n",
              "       [0.82462113, 2.        ],\n",
              "       [2.12132034, 2.        ],\n",
              "       [3.21091887, 0.        ],\n",
              "       [1.89208879, 1.        ],\n",
              "       [3.52987252, 0.        ],\n",
              "       [3.27261363, 0.        ],\n",
              "       [0.86023253, 2.        ],\n",
              "       [2.96984848, 2.        ],\n",
              "       [3.81837662, 0.        ],\n",
              "       [1.19582607, 2.        ],\n",
              "       [0.90553851, 2.        ],\n",
              "       [0.4472136 , 1.        ],\n",
              "       [3.60277671, 0.        ],\n",
              "       [1.27279221, 2.        ],\n",
              "       [0.81853528, 1.        ],\n",
              "       [0.        , 1.        ],\n",
              "       [0.80622577, 1.        ],\n",
              "       [1.12694277, 1.        ],\n",
              "       [3.75366488, 0.        ],\n",
              "       [3.46842904, 0.        ],\n",
              "       [0.93808315, 2.        ],\n",
              "       [3.64965752, 0.        ],\n",
              "       [0.6       , 1.        ],\n",
              "       [0.64031242, 1.        ],\n",
              "       [0.9591663 , 2.        ],\n",
              "       [0.6164414 , 2.        ],\n",
              "       [3.35559235, 0.        ],\n",
              "       [3.59583092, 0.        ],\n",
              "       [0.6244998 , 1.        ],\n",
              "       [1.08166538, 1.        ],\n",
              "       [3.33166625, 0.        ],\n",
              "       [1.1045361 , 1.        ],\n",
              "       [3.77491722, 0.        ],\n",
              "       [1.23693169, 2.        ],\n",
              "       [3.46842904, 0.        ],\n",
              "       [0.51961524, 1.        ],\n",
              "       [0.3       , 1.        ],\n",
              "       [0.92736185, 1.        ],\n",
              "       [3.77491722, 0.        ],\n",
              "       [3.47850543, 0.        ],\n",
              "       [3.70540146, 0.        ],\n",
              "       [2.05669638, 2.        ],\n",
              "       [3.47994253, 0.        ],\n",
              "       [0.46904158, 1.        ],\n",
              "       [0.83666003, 2.        ],\n",
              "       [3.56370594, 0.        ],\n",
              "       [3.47562944, 0.        ],\n",
              "       [1.03923048, 1.        ],\n",
              "       [3.906405  , 0.        ],\n",
              "       [3.62491379, 0.        ],\n",
              "       [3.15119025, 0.        ],\n",
              "       [1.1       , 2.        ],\n",
              "       [2.71477439, 2.        ],\n",
              "       [1.3       , 1.        ],\n",
              "       [3.81837662, 0.        ],\n",
              "       [0.5       , 2.        ],\n",
              "       [0.45825757, 2.        ],\n",
              "       [3.37194306, 0.        ],\n",
              "       [3.59722115, 0.        ],\n",
              "       [3.52987252, 0.        ],\n",
              "       [0.9       , 2.        ],\n",
              "       [3.62215406, 0.        ],\n",
              "       [2.24276615, 2.        ],\n",
              "       [0.98994949, 1.        ],\n",
              "       [3.90128184, 0.        ],\n",
              "       [0.45825757, 2.        ],\n",
              "       [3.35559235, 0.        ],\n",
              "       [0.45825757, 1.        ],\n",
              "       [3.64965752, 0.        ],\n",
              "       [0.3       , 1.        ],\n",
              "       [3.33166625, 0.        ],\n",
              "       [0.5       , 2.        ],\n",
              "       [0.76157731, 1.        ],\n",
              "       [1.33790882, 2.        ],\n",
              "       [1.27279221, 2.        ],\n",
              "       [0.71414284, 1.        ],\n",
              "       [1.89208879, 1.        ],\n",
              "       [0.64031242, 1.        ],\n",
              "       [1.4832397 , 2.        ],\n",
              "       [0.82462113, 2.        ],\n",
              "       [0.38729833, 1.        ],\n",
              "       [3.73764632, 0.        ],\n",
              "       [3.48425028, 0.        ],\n",
              "       [0.9591663 , 2.        ],\n",
              "       [1.97484177, 1.        ],\n",
              "       [3.48998567, 0.        ],\n",
              "       [1.33416641, 2.        ],\n",
              "       [0.76811457, 1.        ],\n",
              "       [3.64005494, 0.        ],\n",
              "       [0.678233  , 1.        ],\n",
              "       [0.84261498, 1.        ],\n",
              "       [0.34641016, 1.        ],\n",
              "       [0.2       , 1.        ],\n",
              "       [3.59722115, 0.        ],\n",
              "       [3.49428104, 0.        ],\n",
              "       [2.05669638, 2.        ],\n",
              "       [0.6164414 , 2.        ],\n",
              "       [3.64828727, 0.        ],\n",
              "       [3.15119025, 0.        ],\n",
              "       [2.71477439, 2.        ],\n",
              "       [0.96436508, 2.        ],\n",
              "       [1.46628783, 2.        ],\n",
              "       [0.45825757, 1.        ],\n",
              "       [1.78325545, 2.        ],\n",
              "       [0.2       , 1.        ],\n",
              "       [0.67082039, 2.        ],\n",
              "       [3.906405  , 0.        ],\n",
              "       [3.55668385, 0.        ],\n",
              "       [1.17473401, 2.        ],\n",
              "       [0.14142136, 1.        ],\n",
              "       [0.81853528, 1.        ],\n",
              "       [0.80622577, 1.        ],\n",
              "       [3.47562944, 0.        ],\n",
              "       [3.50570963, 0.        ],\n",
              "       [2.24276615, 2.        ],\n",
              "       [0.71414284, 1.        ],\n",
              "       [3.62491379, 0.        ],\n",
              "       [1.74068952, 2.        ],\n",
              "       [0.51961524, 1.        ],\n",
              "       [3.67151195, 0.        ],\n",
              "       [0.58309519, 1.        ],\n",
              "       [3.68239053, 0.        ],\n",
              "       [1.30766968, 2.        ],\n",
              "       [1.12694277, 1.        ],\n",
              "       [1.91049732, 1.        ],\n",
              "       [0.45825757, 1.        ],\n",
              "       [1.1       , 2.        ],\n",
              "       [3.48998567, 0.        ],\n",
              "       [0.51961524, 1.        ],\n",
              "       [0.678233  , 1.        ],\n",
              "       [1.17898261, 1.        ],\n",
              "       [1.81659021, 2.        ],\n",
              "       [0.78102497, 1.        ],\n",
              "       [0.76157731, 1.        ],\n",
              "       [0.5       , 2.        ],\n",
              "       [0.4472136 , 1.        ],\n",
              "       [3.64005494, 0.        ],\n",
              "       [0.45825757, 1.        ],\n",
              "       [1.03923048, 1.        ],\n",
              "       [0.90553851, 2.        ],\n",
              "       [3.69052842, 0.        ],\n",
              "       [0.82462113, 2.        ],\n",
              "       [3.78549865, 0.        ],\n",
              "       [3.63180396, 0.        ],\n",
              "       [0.83666003, 2.        ],\n",
              "       [0.46904158, 1.        ],\n",
              "       [3.53553391, 0.        ],\n",
              "       [0.6244998 , 1.        ],\n",
              "       [3.52420204, 0.        ],\n",
              "       [0.76811457, 1.        ],\n",
              "       [1.33790882, 2.        ],\n",
              "       [1.3       , 1.        ],\n",
              "       [1.17473401, 2.        ],\n",
              "       [3.73764632, 0.        ],\n",
              "       [0.42426407, 1.        ],\n",
              "       [3.56370594, 0.        ],\n",
              "       [0.75498344, 1.        ],\n",
              "       [1.19582607, 2.        ],\n",
              "       [0.58309519, 1.        ],\n",
              "       [1.3       , 1.        ],\n",
              "       [0.38729833, 1.        ],\n",
              "       [3.53553391, 0.        ],\n",
              "       [1.03440804, 2.        ],\n",
              "       [3.47994253, 0.        ],\n",
              "       [1.1045361 , 1.        ],\n",
              "       [3.25269119, 0.        ],\n",
              "       [4.14487636, 0.        ],\n",
              "       [1.53948043, 2.        ],\n",
              "       [1.48660687, 2.        ],\n",
              "       [1.07703296, 2.        ],\n",
              "       [0.96436508, 2.        ],\n",
              "       [2.87228132, 2.        ],\n",
              "       [3.68239053, 0.        ],\n",
              "       [1.17898261, 1.        ],\n",
              "       [0.92736185, 1.        ],\n",
              "       [3.21091887, 0.        ],\n",
              "       [1.64316767, 2.        ],\n",
              "       [2.37065392, 2.        ],\n",
              "       [3.56791255, 0.        ],\n",
              "       [0.98994949, 1.        ],\n",
              "       [1.23693169, 2.        ],\n",
              "       [2.596151  , 2.        ],\n",
              "       [1.33790882, 2.        ],\n",
              "       [2.87228132, 2.        ],\n",
              "       [1.3       , 1.        ],\n",
              "       [3.25269119, 0.        ],\n",
              "       [0.53851648, 1.        ],\n",
              "       [3.72290209, 0.        ],\n",
              "       [4.14487636, 0.        ],\n",
              "       [2.12132034, 2.        ],\n",
              "       [1.03440804, 2.        ],\n",
              "       [1.08166538, 1.        ],\n",
              "       [3.57071421, 0.        ],\n",
              "       [3.67151195, 0.        ],\n",
              "       [0.14142136, 1.        ],\n",
              "       [1.20415946, 1.        ],\n",
              "       [0.67082039, 2.        ],\n",
              "       [1.33790882, 2.        ]])"
            ]
          },
          "metadata": {},
          "execution_count": 39
        }
      ]
    },
    {
      "cell_type": "code",
      "source": [
        "# один цикл\n",
        "def knn(x_train, y_train, x_test, k, weights=None):\n",
        "    \n",
        "    answers = []\n",
        "    for x in x_test:\n",
        "            \n",
        "#         for i in range(len(x_train)):\n",
        "            \n",
        "        # расчет расстояний от классифицируемого объекта до\n",
        "        # объектов обучающей выборки\n",
        "        distances = np.sqrt(np.sum(np.square(x - x_train), axis=1))\n",
        "            \n",
        "        # создаем словарь со всеми возможными классами\n",
        "        classes = {class_item: 0 for class_item in set(y_train)}\n",
        "        \n",
        "        \n",
        "#         test_distances = [(dist, label) for dist, label in zip(distances, y_train)]\n",
        "#         for d in sorted(test_distances)[0:k]:\n",
        "#             classes[d[1]] += 1\n",
        "            \n",
        "            \n",
        "        # больше оптимизации\n",
        "        test_distances = np.c_[distances, y_train]\n",
        "        for d in sorted(test_distances, key=lambda x: x[0])[0:k]:\n",
        "            classes[d[1]] += 1\n",
        "\n",
        "        # Записываем в список ответов наиболее часто встречающийся класс\n",
        "        answers.append(sorted(classes, key=classes.get)[-1])\n",
        "        \n",
        "    return answers"
      ],
      "metadata": {
        "id": "oS5sdPoW0rBM"
      },
      "execution_count": 40,
      "outputs": []
    },
    {
      "cell_type": "code",
      "source": [
        "k = 10\n",
        "\n",
        "%time y_pred_train = knn(X_train, y_train, X_train, k)\n",
        "%time y_pred = knn(X_train, y_train, X_test, k)\n",
        "\n",
        "print(f'Точность алгоритма на трейне при k = {k}: {accuracy(y_pred_train, y_train):.3f}')\n",
        "print(f'Точность алгоритма на тесте при k = {k}: {accuracy(y_pred, y_test):.3f}')"
      ],
      "metadata": {
        "colab": {
          "base_uri": "https://localhost:8080/"
        },
        "id": "RTZtOK7_0t4j",
        "outputId": "11bd7c7d-b7ec-48f7-d502-bdadddf9b3b7"
      },
      "execution_count": 41,
      "outputs": [
        {
          "output_type": "stream",
          "name": "stdout",
          "text": [
            "CPU times: user 73.5 ms, sys: 959 µs, total: 74.5 ms\n",
            "Wall time: 75.1 ms\n",
            "CPU times: user 21.2 ms, sys: 980 µs, total: 22.2 ms\n",
            "Wall time: 22.8 ms\n",
            "Точность алгоритма на трейне при k = 10: 0.975\n",
            "Точность алгоритма на тесте при k = 10: 0.933\n"
          ]
        }
      ]
    },
    {
      "cell_type": "code",
      "source": [
        "%timeit [(dist, label) for dist, label in zip(distance, y_train)]"
      ],
      "metadata": {
        "colab": {
          "base_uri": "https://localhost:8080/"
        },
        "id": "RlVYINjT0wtt",
        "outputId": "13d1143b-ac0f-4fa7-aac1-7d0a81d6f6a0"
      },
      "execution_count": 42,
      "outputs": [
        {
          "output_type": "stream",
          "name": "stdout",
          "text": [
            "10000 loops, best of 5: 65.5 µs per loop\n"
          ]
        }
      ]
    },
    {
      "cell_type": "code",
      "source": [
        "%timeit np.c_[distance, y_train]"
      ],
      "metadata": {
        "colab": {
          "base_uri": "https://localhost:8080/"
        },
        "id": "BBVsqfV70y3J",
        "outputId": "454f242d-2f69-4468-da3e-cefaa5cc5264"
      },
      "execution_count": 43,
      "outputs": [
        {
          "output_type": "stream",
          "name": "stdout",
          "text": [
            "The slowest run took 15.85 times longer than the fastest. This could mean that an intermediate result is being cached.\n",
            "10000 loops, best of 5: 25.2 µs per loop\n"
          ]
        }
      ]
    },
    {
      "cell_type": "markdown",
      "source": [
        "Ноль циклов"
      ],
      "metadata": {
        "id": "Goi_0rE001Wh"
      }
    },
    {
      "cell_type": "code",
      "source": [
        "np.sqrt(np.sum(np.square(X_test[:, np.newaxis] - X_train), axis=2)).shape"
      ],
      "metadata": {
        "colab": {
          "base_uri": "https://localhost:8080/"
        },
        "id": "XrN3Jxjx0382",
        "outputId": "fc570215-c394-416f-c1a0-12f5a0046bb2"
      },
      "execution_count": 44,
      "outputs": [
        {
          "output_type": "execute_result",
          "data": {
            "text/plain": [
              "(60, 240)"
            ]
          },
          "metadata": {},
          "execution_count": 44
        }
      ]
    },
    {
      "cell_type": "code",
      "source": [
        "np.sqrt(np.sum(np.square(X_test[:, np.newaxis] - X_train), axis=2)).shape"
      ],
      "metadata": {
        "colab": {
          "base_uri": "https://localhost:8080/"
        },
        "id": "nCP6fV8k0586",
        "outputId": "02f39b08-7599-476c-9b07-c24d87809638"
      },
      "execution_count": 45,
      "outputs": [
        {
          "output_type": "execute_result",
          "data": {
            "text/plain": [
              "(60, 240)"
            ]
          },
          "metadata": {},
          "execution_count": 45
        }
      ]
    },
    {
      "cell_type": "code",
      "source": [
        "# ноль циклов\n",
        "def knn(x_train, y_train, x_test, k, weights=None):\n",
        "    \n",
        "    # расчет расстояний от классифицируемых объектов до\n",
        "    # объектов обучающей выборки\n",
        "    distances = np.sqrt(np.sum(np.square(x_test[:, np.newaxis] - x_train), axis=2))\n",
        "                \n",
        "    answers = []    \n",
        "    for distance in distances:\n",
        "        # Записываем в список значение расстояния и ответа на объекте обучающей выборки\n",
        "        test_distances = [(dist, label) for dist, label in zip(distance, y_train)]\n",
        "        # создаем словарь со всеми возможными классами\n",
        "        classes = {class_item: 0 for class_item in set(y_train)}\n",
        "        \n",
        "        # Сортируем список и среди первых k элементов подсчитаем частоту появления разных классов\n",
        "        for d in sorted(test_distances)[0:k]:\n",
        "            classes[d[1]] += 1\n",
        "\n",
        "        # Записываем в список ответов наиболее часто встречающийся класс\n",
        "        answers.append(sorted(classes, key=classes.get)[-1])\n",
        "        \n",
        "    return answers"
      ],
      "metadata": {
        "id": "1QptJTj208mo"
      },
      "execution_count": 46,
      "outputs": []
    },
    {
      "cell_type": "code",
      "source": [
        "k = 10\n",
        "\n",
        "%time y_pred_train = knn(X_train, y_train, X_train, k)\n",
        "%time y_pred = knn(X_train, y_train, X_test, k)\n",
        "\n",
        "print(f'Точность алгоритма на трейне при k = {k}: {accuracy(y_pred_train, y_train):.3f}')\n",
        "print(f'Точность алгоритма на тесте при k = {k}: {accuracy(y_pred, y_test):.3f}')"
      ],
      "metadata": {
        "colab": {
          "base_uri": "https://localhost:8080/"
        },
        "id": "fxuv1K_u0-qn",
        "outputId": "efaa0e2d-d58e-4aba-ab2f-c662703e7bc7"
      },
      "execution_count": 47,
      "outputs": [
        {
          "output_type": "stream",
          "name": "stdout",
          "text": [
            "CPU times: user 52.2 ms, sys: 1.97 ms, total: 54.2 ms\n",
            "Wall time: 54.8 ms\n",
            "CPU times: user 14.1 ms, sys: 0 ns, total: 14.1 ms\n",
            "Wall time: 13.4 ms\n",
            "Точность алгоритма на трейне при k = 10: 0.975\n",
            "Точность алгоритма на тесте при k = 10: 0.933\n"
          ]
        }
      ]
    },
    {
      "cell_type": "markdown",
      "source": [
        "Сравним время подсчета расстояний"
      ],
      "metadata": {
        "id": "dHX4ZY5a1ByE"
      }
    },
    {
      "cell_type": "code",
      "source": [
        "%%timeit\n",
        "for x in X_test:\n",
        "    distances = np.sqrt(np.sum(np.square(x - X_train), axis=1))"
      ],
      "metadata": {
        "colab": {
          "base_uri": "https://localhost:8080/"
        },
        "id": "t76DrjJl1BAw",
        "outputId": "10bb1316-0652-4463-b123-812bcc2a22d2"
      },
      "execution_count": 48,
      "outputs": [
        {
          "output_type": "stream",
          "name": "stdout",
          "text": [
            "1000 loops, best of 5: 1.15 ms per loop\n"
          ]
        }
      ]
    },
    {
      "cell_type": "code",
      "source": [
        "%%timeit\n",
        "np.sqrt(np.sum(np.square(X_test[:, np.newaxis] - X_train), axis=2))"
      ],
      "metadata": {
        "colab": {
          "base_uri": "https://localhost:8080/"
        },
        "id": "foV7hfao1HCE",
        "outputId": "def2a538-de59-4dc3-c056-80fcd98b1645"
      },
      "execution_count": 49,
      "outputs": [
        {
          "output_type": "stream",
          "name": "stdout",
          "text": [
            "1000 loops, best of 5: 1.08 ms per loop\n"
          ]
        }
      ]
    },
    {
      "cell_type": "markdown",
      "source": [
        "**2. *Написать функцию подсчета метрики качества кластеризации как среднее квадратичное внутрикластерное расстояние и построить график ее зависимости от количества кластеров k (взять от 1 до 10) для выборки данных из данного урока (создать датасет, как в методичке).**"
      ],
      "metadata": {
        "id": "_l9VO34Y1LUb"
      }
    },
    {
      "cell_type": "code",
      "source": [
        "from sklearn.datasets import make_blobs, make_moons\n",
        "\n",
        "X, y = make_blobs(n_samples=100, random_state=1)"
      ],
      "metadata": {
        "id": "Ip4netEp1gIb"
      },
      "execution_count": 50,
      "outputs": []
    },
    {
      "cell_type": "markdown",
      "source": [
        "Изобразим точки на графике."
      ],
      "metadata": {
        "id": "-GhrAO9M1iJy"
      }
    },
    {
      "cell_type": "code",
      "source": [
        "plt.figure(figsize=(7,7))\n",
        "plt.scatter(X[:, 0], X[:, 1]);"
      ],
      "metadata": {
        "colab": {
          "base_uri": "https://localhost:8080/",
          "height": 428
        },
        "id": "hMN8Rdo91kgx",
        "outputId": "7d7a9db9-3e7c-4119-9931-24a9b24ec821"
      },
      "execution_count": 51,
      "outputs": [
        {
          "output_type": "display_data",
          "data": {
            "image/png": "[encoded data removed]",
            "text/plain": [
              "<Figure size 504x504 with 1 Axes>"
            ]
          },
          "metadata": {
            "needs_background": "light"
          }
        }
      ]
    },
    {
      "cell_type": "markdown",
      "source": [
        "В качестве метрики расстояния будем использовать евклидово расстояние, функция для которого была написана ранее. В качестве центроидов выберем первые k элементов датасета. Реализуем основной цикл алгоритма."
      ],
      "metadata": {
        "id": "JmjKIGAA1nJh"
      }
    },
    {
      "cell_type": "code",
      "source": [
        "def kmeans(data, k, max_iterations, min_distance):\n",
        "    # Создадим словарь для кластеризации\n",
        "    clusters = {i: [] for i in range(k)}\n",
        "    \n",
        "    # инициализируем центроиды как первые k элементов датасета\n",
        "    centroids = [data[i] for i in range(k)]\n",
        "    \n",
        "    for _ in range(max_iterations):\n",
        "        # кластеризуем объекты по центроидам\n",
        "        for x in data:\n",
        "            # определим расстояния от объекта до каждого центроида\n",
        "            distances = [e_metrics(x, centroid) for centroid in centroids]\n",
        "            # отнесем объект к кластеру, до центроида которого наименьшее расстояние\n",
        "            cluster = distances.index(min(distances))\n",
        "            clusters[cluster].append(x)\n",
        "        \n",
        "        # сохраним предыдущие центроиды в отдельный список для последующего сравнения сновыми\n",
        "        old_centroids = centroids.copy()\n",
        "        \n",
        "        # пересчитаем центроиды как среднее по кластерам\n",
        "        for cluster in clusters:\n",
        "            centroids[cluster] = np.mean(clusters[cluster], axis=0)\n",
        "            \n",
        "        # сравним величину смещения центроидов с минимальной\n",
        "        optimal = True\n",
        "        for centroid in range(len(centroids)):\n",
        "            if np.linalg.norm(centroids[centroid] - old_centroids[centroid], ord=2) > min_distance:\n",
        "                optimal = False\n",
        "                break\n",
        "        \n",
        "        # если все смещения меньше минимального, останавливаем алгоритм  \n",
        "        if optimal:\n",
        "            break\n",
        "    \n",
        "    return old_centroids, clusters"
      ],
      "metadata": {
        "id": "d44mBaw-1qSU"
      },
      "execution_count": 52,
      "outputs": []
    },
    {
      "cell_type": "markdown",
      "source": [
        "Напишем функцию для визуализации кластеров"
      ],
      "metadata": {
        "id": "obll3z0e1s1N"
      }
    },
    {
      "cell_type": "code",
      "source": [
        "def visualize(centroids, clusters):\n",
        "    colors = ['r', 'g', 'b', 'orange', 'y', 'black', 'gray', 'purple', 'brown', 'navy']\n",
        "    \n",
        "    plt.figure(figsize=(7,7))\n",
        "    \n",
        "    # нанесем на график центроиды\n",
        "    for centroid in centroids:\n",
        "        plt.scatter(centroid[0], centroid[1], marker='x', s=130, c='black')\n",
        "        \n",
        "    # нанесем объекты раскрашенные по классам\n",
        "    for cluster_item in clusters:\n",
        "        for x in clusters[cluster_item]:\n",
        "            plt.scatter(x[0], x[1], color=colors[cluster_item])\n",
        "            \n",
        "    plt.show()"
      ],
      "metadata": {
        "id": "qP9VvUQ11v8X"
      },
      "execution_count": 53,
      "outputs": []
    },
    {
      "cell_type": "code",
      "source": [
        "# определим максимальное количество итераций\n",
        "max_iterations = 5\n",
        "\n",
        "# и минимальное расстояние между центроидами до пересчета и после него, при котором нужно остановить алгоритм\n",
        "min_distance = 1e-4\n",
        "\n",
        "# сразу определим известное нам количество кластеров\n",
        "k = 3"
      ],
      "metadata": {
        "id": "Z0Z_YrwS1yhT"
      },
      "execution_count": 54,
      "outputs": []
    },
    {
      "cell_type": "markdown",
      "source": [
        "Проверим результат алгоритма после одной итерации"
      ],
      "metadata": {
        "id": "nLI9TBSe10wN"
      }
    },
    {
      "cell_type": "code",
      "source": [
        "centroids, clusters = kmeans(X, k, max_iterations, min_distance)\n",
        "\n",
        "visualize(centroids, clusters)"
      ],
      "metadata": {
        "colab": {
          "base_uri": "https://localhost:8080/",
          "height": 428
        },
        "id": "fVf7_EnQ12y_",
        "outputId": "8e7a8ded-a920-4405-db4c-51de031daa28"
      },
      "execution_count": 55,
      "outputs": [
        {
          "output_type": "display_data",
          "data": {
            "image/png": "[encoded data removed]",
            "text/plain": [
              "<Figure size 504x504 with 1 Axes>"
            ]
          },
          "metadata": {
            "needs_background": "light"
          }
        }
      ]
    },
    {
      "cell_type": "markdown",
      "source": [
        "- Среднее квадратичное внутрикластерное расстояние.\n",
        "\n",
        "$$\\sum_{k=1}^{K}\\frac{1}{|k|}\\sum_{i=1}^{l}[a(x_{i})=k]\\rho^{2}(x_{i}, c_{k})$$"
      ],
      "metadata": {
        "id": "jz75g78J16Jq"
      }
    },
    {
      "cell_type": "code",
      "source": [
        "def mean_square_cluster_cohesion(clusters, centroids):\n",
        "    mscc = 0\n",
        "    for cluster, data in clusters.items():\n",
        "        dist = 0\n",
        "        for x in data:\n",
        "            dist += e_metrics(centroids[cluster], x) ** 2\n",
        "        dist /= len(data)\n",
        "        mscc += dist\n",
        "    return mscc"
      ],
      "metadata": {
        "id": "mCh2wT_h18Iw"
      },
      "execution_count": 56,
      "outputs": []
    },
    {
      "cell_type": "code",
      "source": [
        "from tqdm import tqdm\n",
        "\n",
        "n_clusters = range(1, 11)\n",
        "errors = []\n",
        "\n",
        "for k in tqdm(n_clusters):\n",
        "    centroids, clusters = kmeans(X, k, max_iterations, min_distance)\n",
        "    errors.append(mean_square_cluster_cohesion(clusters, centroids))"
      ],
      "metadata": {
        "colab": {
          "base_uri": "https://localhost:8080/"
        },
        "id": "w8eaM3xd1-df",
        "outputId": "6069c670-0c66-47b9-c720-432c8191a76d"
      },
      "execution_count": 57,
      "outputs": [
        {
          "output_type": "stream",
          "name": "stderr",
          "text": [
            "100%|██████████| 10/10 [00:00<00:00, 34.23it/s]\n"
          ]
        }
      ]
    },
    {
      "cell_type": "code",
      "source": [
        "plt.plot(n_clusters, errors)\n",
        "plt.xlabel('Количество кластеров')\n",
        "plt.ylabel('Внутрикластерное расстояние')"
      ],
      "metadata": {
        "colab": {
          "base_uri": "https://localhost:8080/",
          "height": 296
        },
        "id": "IRTduXvH2Ar3",
        "outputId": "c56f8782-71e0-4517-dc02-fa48617cd7bf"
      },
      "execution_count": 58,
      "outputs": [
        {
          "output_type": "execute_result",
          "data": {
            "text/plain": [
              "Text(0, 0.5, 'Внутрикластерное расстояние')"
            ]
          },
          "metadata": {},
          "execution_count": 58
        },
        {
          "output_type": "display_data",
          "data": {
            "image/png": "[encoded data removed]",
            "text/plain": [
              "<Figure size 432x288 with 1 Axes>"
            ]
          },
          "metadata": {
            "needs_background": "light"
          }
        }
      ]
    }
  ]
}