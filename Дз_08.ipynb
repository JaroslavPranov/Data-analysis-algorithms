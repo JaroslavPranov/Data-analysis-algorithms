{
  "nbformat": 4,
  "nbformat_minor": 0,
  "metadata": {
    "colab": {
      "name": "Дз_08.ipynb",
      "provenance": [],
      "collapsed_sections": []
    },
    "kernelspec": {
      "name": "python3",
      "display_name": "Python 3"
    },
    "language_info": {
      "name": "python"
    }
  },
  "cells": [
    {
      "cell_type": "markdown",
      "source": [
        "### Домашнее задание <a class=\"anchor\" id=\"hw\"></a><center>"
      ],
      "metadata": {
        "id": "z5-C2YKuYN2I"
      }
    },
    {
      "cell_type": "code",
      "execution_count": null,
      "metadata": {
        "id": "oowxPqEKYICf"
      },
      "outputs": [],
      "source": [
        "import numpy as np\n",
        "from sklearn import datasets\n",
        "import matplotlib.pyplot as plt"
      ]
    },
    {
      "cell_type": "markdown",
      "source": [
        "**1. Обучить любую модель классификации на датасете IRIS до применения PCA и после него. Сравнить качество классификации по отложенной выборке.**"
      ],
      "metadata": {
        "id": "NK36c7CKYVKv"
      }
    },
    {
      "cell_type": "code",
      "source": [
        "# Загрузим игрушечный датасет из sklearn\n",
        "iris = datasets.load_iris()\n",
        "X = iris.data\n",
        "X.shape"
      ],
      "metadata": {
        "colab": {
          "base_uri": "https://localhost:8080/"
        },
        "id": "bey4fwC4YYDA",
        "outputId": "d9453139-b789-4749-b2e2-beb9561457fd"
      },
      "execution_count": null,
      "outputs": [
        {
          "output_type": "execute_result",
          "data": {
            "text/plain": [
              "(150, 4)"
            ]
          },
          "metadata": {},
          "execution_count": 2
        }
      ]
    },
    {
      "cell_type": "code",
      "source": [
        "def standard_scale(x):\n",
        "    res = (x - x.mean(axis=0)) / x.std(axis=0)\n",
        "    return res\n",
        "\n",
        "\n",
        "X = standard_scale(X)"
      ],
      "metadata": {
        "id": "8Qwggi_MYauO"
      },
      "execution_count": null,
      "outputs": []
    },
    {
      "cell_type": "markdown",
      "source": [
        "**2. *Написать свою реализацию метода главных компонент с помощью сингулярного разложения с использованием функции [numpy.linalg.svd()](https://docs.scipy.org/doc/numpy/reference/generated/numpy.linalg.svd.html)**"
      ],
      "metadata": {
        "id": "sYQnEfsQYfml"
      }
    },
    {
      "cell_type": "markdown",
      "source": [
        "Сформулировав принцип реализации метода главных компонент, нельзя не заметить его родство с сингулярным разложением матриц (SVD). Вспомним, что сингулярное разложение матрицы - это разложение вида\n",
        "\n",
        "$$X=UDV^{T},$$\n",
        "\n",
        "- столбцы ортогональной матрицы $U$ - это собственные векторы матрицы $XX^{T}$\n",
        "- столбцы ортогональной матрицы $V$ - собственные векторы матрицы $X^{T}X$\n",
        "- на главной диагонали диагональной матрицы $D$ расположены собственные значения матриц $XX^{T}$ и $X^{T}X$ (они равны и также называются сингулярными числами матрицы $X$).\n",
        "\n",
        "Если число новых признаков $d$ равно старому числу признаков $n$, то можно приравнять разложения\n",
        "\n",
        "$$X=ZW=UDV^{T}.$$\n",
        "\n",
        "При этом матрицы $W$ и $V^{T}$ состоят из собственных векторов матрицы $X^{T}X$, то есть они равны при $Z=UD$."
      ],
      "metadata": {
        "id": "rudomk_CYq4b"
      }
    },
    {
      "cell_type": "code",
      "source": [
        "U, D, V = np.linalg.svd(X.T @ X)\n",
        "U.shape, D.shape, V.shape"
      ],
      "metadata": {
        "colab": {
          "base_uri": "https://localhost:8080/"
        },
        "id": "v7eXxiBuYt14",
        "outputId": "456e20f2-25a1-45e8-9052-0e280ad3270f"
      },
      "execution_count": null,
      "outputs": [
        {
          "output_type": "execute_result",
          "data": {
            "text/plain": [
              "((4, 4), (4,), (4, 4))"
            ]
          },
          "metadata": {},
          "execution_count": 4
        }
      ]
    },
    {
      "cell_type": "code",
      "source": [
        "D"
      ],
      "metadata": {
        "colab": {
          "base_uri": "https://localhost:8080/"
        },
        "id": "DBvxuxt1YwLv",
        "outputId": "04e6007e-f743-408f-9083-8a630dbc34da"
      },
      "execution_count": null,
      "outputs": [
        {
          "output_type": "execute_result",
          "data": {
            "text/plain": [
              "array([437.77467248, 137.10457072,  22.01353134,   3.10722546])"
            ]
          },
          "metadata": {},
          "execution_count": 5
        }
      ]
    },
    {
      "cell_type": "code",
      "source": [
        "# сформируем список кортежей (собственное значение, собственный вектор)\n",
        "eig_pairs = [(D[i], V[i]) for i in range(len(D))]\n",
        "\n",
        "# и отсортируем список по убыванию собственных значений\n",
        "eig_pairs.sort(key=lambda x: x[0], reverse=True)\n",
        "\n",
        "print('Собственные значения и собственные векторы в порядке убывания:')\n",
        "for i in eig_pairs:\n",
        "    print(i)"
      ],
      "metadata": {
        "colab": {
          "base_uri": "https://localhost:8080/"
        },
        "id": "veGs4NPcYy6G",
        "outputId": "bcd12126-14d8-4ad1-c1a7-dc62aca8ed6b"
      },
      "execution_count": null,
      "outputs": [
        {
          "output_type": "stream",
          "name": "stdout",
          "text": [
            "Собственные значения и собственные векторы в порядке убывания:\n",
            "(437.77467247979934, array([-0.52106591,  0.26934744, -0.5804131 , -0.56485654]))\n",
            "(137.10457072021043, array([-0.37741762, -0.92329566, -0.02449161, -0.06694199]))\n",
            "(22.013531335697234, array([ 0.71956635, -0.24438178, -0.14212637, -0.63427274]))\n",
            "(3.1072254642928363, array([ 0.26128628, -0.12350962, -0.80144925,  0.52359713]))\n"
          ]
        }
      ]
    },
    {
      "cell_type": "code",
      "source": [
        "eig_sum = sum(D)\n",
        "var_exp = [(i / eig_sum) * 100 for i in sorted(D, reverse=True)]\n",
        "cum_var_exp = np.cumsum(var_exp)\n",
        "print(f'Доля дисперсии, описвыаемая каждой из компонент \\n{var_exp}')\n",
        "\n",
        "# а теперь оценим кумулятивную (то есть накапливаемую) дисперсию при учитывании каждой из компонент\n",
        "print(f'Кумулятивная доля дисперсии по компонентам \\n{cum_var_exp}')"
      ],
      "metadata": {
        "colab": {
          "base_uri": "https://localhost:8080/"
        },
        "id": "gshWhF3_Y2eN",
        "outputId": "17ac385c-9bce-4819-8201-4ce613c5b094"
      },
      "execution_count": null,
      "outputs": [
        {
          "output_type": "stream",
          "name": "stdout",
          "text": [
            "Доля дисперсии, описвыаемая каждой из компонент \n",
            "[72.9624454132999, 22.850761786701742, 3.668921889282873, 0.5178709107154728]\n",
            "Кумулятивная доля дисперсии по компонентам \n",
            "[ 72.96244541  95.8132072   99.48212909 100.        ]\n"
          ]
        }
      ]
    },
    {
      "cell_type": "code",
      "source": [
        "# Сформируем вектор весов из собственных векторов, соответствующих первым двум главным компонентам\n",
        "W = np.hstack((eig_pairs[0][1].reshape(4,1), eig_pairs[1][1].reshape(4,1)))\n",
        "\n",
        "print(f'Матрица весов W:\\n', W)"
      ],
      "metadata": {
        "colab": {
          "base_uri": "https://localhost:8080/"
        },
        "id": "whBmCBwuY5zt",
        "outputId": "fea7987a-7be7-404c-d844-0a2d1e0a6607"
      },
      "execution_count": null,
      "outputs": [
        {
          "output_type": "stream",
          "name": "stdout",
          "text": [
            "Матрица весов W:\n",
            " [[-0.52106591 -0.37741762]\n",
            " [ 0.26934744 -0.92329566]\n",
            " [-0.5804131  -0.02449161]\n",
            " [-0.56485654 -0.06694199]]\n"
          ]
        }
      ]
    },
    {
      "cell_type": "code",
      "source": [
        "# Сформируем новую матрицу \"объекты-признаки\"\n",
        "Z = X.dot(W)\n",
        "Z[:10]"
      ],
      "metadata": {
        "colab": {
          "base_uri": "https://localhost:8080/"
        },
        "id": "BEJwh_5ZY8tj",
        "outputId": "2bd74c6a-47bf-4117-a5b9-f36dc6274f04"
      },
      "execution_count": null,
      "outputs": [
        {
          "output_type": "execute_result",
          "data": {
            "text/plain": [
              "array([[ 2.26470281, -0.4800266 ],\n",
              "       [ 2.08096115,  0.67413356],\n",
              "       [ 2.36422905,  0.34190802],\n",
              "       [ 2.29938422,  0.59739451],\n",
              "       [ 2.38984217, -0.64683538],\n",
              "       [ 2.07563095, -1.48917752],\n",
              "       [ 2.44402884, -0.0476442 ],\n",
              "       [ 2.23284716, -0.22314807],\n",
              "       [ 2.33464048,  1.11532768],\n",
              "       [ 2.18432817,  0.46901356]])"
            ]
          },
          "metadata": {},
          "execution_count": 9
        }
      ]
    },
    {
      "cell_type": "code",
      "source": [
        "from sklearn.decomposition import PCA\n",
        "pca = PCA(n_components=2)\n",
        "pca.fit_transform(X)[:10]"
      ],
      "metadata": {
        "colab": {
          "base_uri": "https://localhost:8080/"
        },
        "id": "jrmphIo6Y_xV",
        "outputId": "743956b7-7fba-46a3-f36e-88a7bf58a376"
      },
      "execution_count": null,
      "outputs": [
        {
          "output_type": "execute_result",
          "data": {
            "text/plain": [
              "array([[-2.26470281,  0.4800266 ],\n",
              "       [-2.08096115, -0.67413356],\n",
              "       [-2.36422905, -0.34190802],\n",
              "       [-2.29938422, -0.59739451],\n",
              "       [-2.38984217,  0.64683538],\n",
              "       [-2.07563095,  1.48917752],\n",
              "       [-2.44402884,  0.0476442 ],\n",
              "       [-2.23284716,  0.22314807],\n",
              "       [-2.33464048, -1.11532768],\n",
              "       [-2.18432817, -0.46901356]])"
            ]
          },
          "metadata": {},
          "execution_count": 10
        }
      ]
    },
    {
      "cell_type": "code",
      "source": [
        "plt.figure()\n",
        "y = iris.target\n",
        "for c, i in zip(\"rgb\", [0, 1, 2]):\n",
        "    plt.scatter(Z[y==i, 0], Z[y==i, 1], c=c)\n",
        "plt.xlabel('Главная компонента 1')\n",
        "plt.ylabel('Главная компонента 2')\n",
        "plt.title('PCA датасета IRIS')\n",
        "plt.show()"
      ],
      "metadata": {
        "colab": {
          "base_uri": "https://localhost:8080/",
          "height": 295
        },
        "id": "KHx4emnHZDpb",
        "outputId": "e11eab2a-d4ad-4da5-984a-15d4f22c958b"
      },
      "execution_count": null,
      "outputs": [
        {
          "output_type": "display_data",
          "data": {
            "image/png": "[encoded data removed]",
            "text/plain": [
              "<Figure size 432x288 with 1 Axes>"
            ]
          },
          "metadata": {
            "needs_background": "light"
          }
        }
      ]
    }
  ]
}